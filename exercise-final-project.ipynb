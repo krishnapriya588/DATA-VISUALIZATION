{
 "cells": [
  {
   "cell_type": "markdown",
   "id": "fc893856",
   "metadata": {
    "papermill": {
     "duration": 0.006381,
     "end_time": "2024-01-05T12:19:27.222523",
     "exception": false,
     "start_time": "2024-01-05T12:19:27.216142",
     "status": "completed"
    },
    "tags": []
   },
   "source": [
    "**This notebook is an exercise in the [Data Visualization](https://www.kaggle.com/learn/data-visualization) course.  You can reference the tutorial at [this link](https://www.kaggle.com/alexisbcook/final-project).**\n",
    "\n",
    "---\n"
   ]
  },
  {
   "cell_type": "markdown",
   "id": "f2b98a80",
   "metadata": {
    "papermill": {
     "duration": 0.005586,
     "end_time": "2024-01-05T12:19:27.234696",
     "exception": false,
     "start_time": "2024-01-05T12:19:27.229110",
     "status": "completed"
    },
    "tags": []
   },
   "source": [
    "Now it's time for you to demonstrate your new skills with a project of your own!\n",
    "\n",
    "In this exercise, you will work with a dataset of your choosing.  Once you've selected a dataset, you'll design and create your own plot to tell interesting stories behind the data!\n",
    "\n",
    "## Setup\n",
    "\n",
    "Run the next cell to import and configure the Python libraries that you need to complete the exercise."
   ]
  },
  {
   "cell_type": "code",
   "execution_count": 1,
   "id": "e10d5eb8",
   "metadata": {
    "execution": {
     "iopub.execute_input": "2024-01-05T12:19:27.248388Z",
     "iopub.status.busy": "2024-01-05T12:19:27.247873Z",
     "iopub.status.idle": "2024-01-05T12:19:29.399059Z",
     "shell.execute_reply": "2024-01-05T12:19:29.397270Z"
    },
    "papermill": {
     "duration": 2.161563,
     "end_time": "2024-01-05T12:19:29.402085",
     "exception": false,
     "start_time": "2024-01-05T12:19:27.240522",
     "status": "completed"
    },
    "tags": []
   },
   "outputs": [
    {
     "name": "stdout",
     "output_type": "stream",
     "text": [
      "Setup Complete\n"
     ]
    }
   ],
   "source": [
    "import pandas as pd\n",
    "pd.plotting.register_matplotlib_converters()\n",
    "import matplotlib.pyplot as plt\n",
    "%matplotlib inline\n",
    "import seaborn as sns\n",
    "print(\"Setup Complete\")"
   ]
  },
  {
   "cell_type": "markdown",
   "id": "bf92f4bd",
   "metadata": {
    "papermill": {
     "duration": 0.005731,
     "end_time": "2024-01-05T12:19:29.414090",
     "exception": false,
     "start_time": "2024-01-05T12:19:29.408359",
     "status": "completed"
    },
    "tags": []
   },
   "source": [
    "The questions below will give you feedback on your work. Run the following cell to set up the feedback system."
   ]
  },
  {
   "cell_type": "code",
   "execution_count": 2,
   "id": "48098885",
   "metadata": {
    "execution": {
     "iopub.execute_input": "2024-01-05T12:19:29.428840Z",
     "iopub.status.busy": "2024-01-05T12:19:29.428249Z",
     "iopub.status.idle": "2024-01-05T12:19:29.483334Z",
     "shell.execute_reply": "2024-01-05T12:19:29.481801Z"
    },
    "papermill": {
     "duration": 0.066008,
     "end_time": "2024-01-05T12:19:29.486725",
     "exception": false,
     "start_time": "2024-01-05T12:19:29.420717",
     "status": "completed"
    },
    "tags": []
   },
   "outputs": [
    {
     "name": "stdout",
     "output_type": "stream",
     "text": [
      "Setup Complete\n"
     ]
    }
   ],
   "source": [
    "# Set up code checking\n",
    "from learntools.core import binder\n",
    "binder.bind(globals())\n",
    "from learntools.data_viz_to_coder.ex7 import *\n",
    "print(\"Setup Complete\")"
   ]
  },
  {
   "cell_type": "markdown",
   "id": "9e9ee51c",
   "metadata": {
    "papermill": {
     "duration": 0.005818,
     "end_time": "2024-01-05T12:19:29.498867",
     "exception": false,
     "start_time": "2024-01-05T12:19:29.493049",
     "status": "completed"
    },
    "tags": []
   },
   "source": [
    "## Step 1: Attach a dataset to the notebook\n",
    "\n",
    "Begin by selecting a CSV dataset from [Kaggle Datasets](https://www.kaggle.com/datasets).  If you're unsure how to do this, please revisit the instructions in the previous tutorial.\n",
    "\n",
    "Once you have selected a dataset, click on the **[+ Add data]** option in the top right corner.  This will generate a pop-up window that you can use to search for your chosen dataset.  \n",
    "\n",
    "![ex6_search_dataset](https://storage.googleapis.com/kaggle-media/learn/images/cIIWPUS.png)\n",
    "\n",
    "Once you have found the dataset, click on the **[Add]** button to attach it to the notebook.  You can check that it was successful by looking at the **Data** dropdown menu to the right of the notebook -- look for an **input** folder containing a subfolder that matches the name of the dataset.\n",
    "\n",
    "<center>\n",
    "<img src=\"https://storage.googleapis.com/kaggle-media/learn/images/nMYc1Nu.png\" width=30%><br/>\n",
    "</center>\n",
    "\n",
    "You can click on the carat to the left of the name of the dataset to double-check that it contains a CSV file.  For instance, the image below shows that the example dataset contains two CSV files: (1) **dc-wikia-data.csv**, and (2) **marvel-wikia-data.csv**.\n",
    "\n",
    "<center>\n",
    "<img src=\"https://storage.googleapis.com/kaggle-media/learn/images/B4sJkVA.png\" width=30%><br/>\n",
    "</center>\n",
    "\n",
    "Once you've uploaded a dataset with a CSV file, run the code cell below **without changes** to receive credit for your work!"
   ]
  },
  {
   "cell_type": "code",
   "execution_count": 3,
   "id": "c7ce8ae6",
   "metadata": {
    "execution": {
     "iopub.execute_input": "2024-01-05T12:19:29.513328Z",
     "iopub.status.busy": "2024-01-05T12:19:29.512891Z",
     "iopub.status.idle": "2024-01-05T12:19:29.529853Z",
     "shell.execute_reply": "2024-01-05T12:19:29.528534Z"
    },
    "papermill": {
     "duration": 0.027728,
     "end_time": "2024-01-05T12:19:29.532691",
     "exception": false,
     "start_time": "2024-01-05T12:19:29.504963",
     "status": "completed"
    },
    "tags": []
   },
   "outputs": [
    {
     "data": {
      "application/javascript": [
       "parent.postMessage({\"jupyterEvent\": \"custom.exercise_interaction\", \"data\": {\"outcomeType\": 1, \"valueTowardsCompletion\": 0.25, \"interactionType\": 1, \"questionType\": 2, \"questionId\": \"1_AttachData\", \"learnToolsVersion\": \"0.3.4\", \"failureMessage\": \"\", \"exceptionClass\": \"\", \"trace\": \"\"}}, \"*\")"
      ],
      "text/plain": [
       "<IPython.core.display.Javascript object>"
      ]
     },
     "metadata": {},
     "output_type": "display_data"
    },
    {
     "data": {
      "text/markdown": [
       "<span style=\"color:#33cc33\">Correct:</span> \n",
       "\n"
      ],
      "text/plain": [
       "Correct: \n"
      ]
     },
     "metadata": {},
     "output_type": "display_data"
    }
   ],
   "source": [
    "\n",
    "step_1.check()\n"
   ]
  },
  {
   "cell_type": "markdown",
   "id": "117469e8",
   "metadata": {
    "papermill": {
     "duration": 0.007367,
     "end_time": "2024-01-05T12:19:29.548224",
     "exception": false,
     "start_time": "2024-01-05T12:19:29.540857",
     "status": "completed"
    },
    "tags": []
   },
   "source": [
    "## Step 2: Specify the filepath\n",
    "\n",
    "Now that the dataset is attached to the notebook, you can find its filepath.  To do this, begin by clicking on the CSV file you'd like to use.  This will open the CSV file in a tab below the notebook.  You can find the filepath towards the top of this new tab.  \n",
    "\n",
    "![ex6_filepath](https://storage.googleapis.com/kaggle-media/learn/images/fgXQV47.png)\n",
    "\n",
    "After you find the filepath corresponding to your dataset, fill it in as the value for `my_filepath` in the code cell below, and run the code cell to check that you've provided a valid filepath.  For instance, in the case of this example dataset, we would set\n",
    "```\n",
    "my_filepath = \"../input/fivethirtyeight-comic-characters-dataset/dc-wikia-data.csv\"\n",
    "```  \n",
    "Note that **you must enclose the filepath in quotation marks**; otherwise, the code will return an error.\n",
    "\n",
    "Once you've entered the filepath, you can close the tab below the notebook by clicking on the **[X]** at the top of the tab."
   ]
  },
  {
   "cell_type": "code",
   "execution_count": 4,
   "id": "daea9c9c",
   "metadata": {
    "execution": {
     "iopub.execute_input": "2024-01-05T12:19:29.565611Z",
     "iopub.status.busy": "2024-01-05T12:19:29.564980Z",
     "iopub.status.idle": "2024-01-05T12:19:29.594208Z",
     "shell.execute_reply": "2024-01-05T12:19:29.593087Z"
    },
    "papermill": {
     "duration": 0.041003,
     "end_time": "2024-01-05T12:19:29.596690",
     "exception": false,
     "start_time": "2024-01-05T12:19:29.555687",
     "status": "completed"
    },
    "tags": []
   },
   "outputs": [
    {
     "data": {
      "application/javascript": [
       "parent.postMessage({\"jupyterEvent\": \"custom.exercise_interaction\", \"data\": {\"outcomeType\": 1, \"valueTowardsCompletion\": 0.25, \"interactionType\": 1, \"questionType\": 2, \"questionId\": \"3_LoadData\", \"learnToolsVersion\": \"0.3.4\", \"failureMessage\": \"\", \"exceptionClass\": \"\", \"trace\": \"\"}}, \"*\")"
      ],
      "text/plain": [
       "<IPython.core.display.Javascript object>"
      ]
     },
     "metadata": {},
     "output_type": "display_data"
    },
    {
     "data": {
      "text/markdown": [
       "<span style=\"color:#33cc33\">Correct:</span> \n",
       "\n"
      ],
      "text/plain": [
       "Correct: \n"
      ]
     },
     "metadata": {},
     "output_type": "display_data"
    }
   ],
   "source": [
    "# Fill in the line below: Specify the path of the CSV file to read\n",
    "my_data = pd.read_csv(\"/kaggle/input/irisdat/Iris.csv\")\n",
    "\n",
    "\n",
    "# Check for a valid filepath to a CSV file in a dataset\n",
    "step_3.check()"
   ]
  },
  {
   "cell_type": "markdown",
   "id": "94b4c69d",
   "metadata": {
    "papermill": {
     "duration": 0.00727,
     "end_time": "2024-01-05T12:19:29.610976",
     "exception": false,
     "start_time": "2024-01-05T12:19:29.603706",
     "status": "completed"
    },
    "tags": []
   },
   "source": [
    "## Step 3: Load the data\n",
    "\n",
    "Use the next code cell to load your data file into `my_data`.  Use the filepath that you specified in the previous step."
   ]
  },
  {
   "cell_type": "code",
   "execution_count": 5,
   "id": "955f1ab6",
   "metadata": {
    "execution": {
     "iopub.execute_input": "2024-01-05T12:19:29.627388Z",
     "iopub.status.busy": "2024-01-05T12:19:29.626913Z",
     "iopub.status.idle": "2024-01-05T12:19:29.641036Z",
     "shell.execute_reply": "2024-01-05T12:19:29.639740Z"
    },
    "papermill": {
     "duration": 0.025675,
     "end_time": "2024-01-05T12:19:29.643744",
     "exception": false,
     "start_time": "2024-01-05T12:19:29.618069",
     "status": "completed"
    },
    "tags": []
   },
   "outputs": [
    {
     "data": {
      "application/javascript": [
       "parent.postMessage({\"jupyterEvent\": \"custom.exercise_interaction\", \"data\": {\"outcomeType\": 1, \"valueTowardsCompletion\": 0.25, \"interactionType\": 1, \"questionType\": 2, \"questionId\": \"3_LoadData\", \"learnToolsVersion\": \"0.3.4\", \"failureMessage\": \"\", \"exceptionClass\": \"\", \"trace\": \"\"}}, \"*\")"
      ],
      "text/plain": [
       "<IPython.core.display.Javascript object>"
      ]
     },
     "metadata": {},
     "output_type": "display_data"
    },
    {
     "data": {
      "text/markdown": [
       "<span style=\"color:#33cc33\">Correct:</span> \n",
       "\n"
      ],
      "text/plain": [
       "Correct: \n"
      ]
     },
     "metadata": {},
     "output_type": "display_data"
    }
   ],
   "source": [
    "my_data = pd.read_csv(\"/kaggle/input/irisdat/Iris.csv\")\n",
    "   \n",
    "# Check that a dataset has been uploaded into my_data\n",
    "step_3.check()"
   ]
  },
  {
   "cell_type": "markdown",
   "id": "2f6b6bb8",
   "metadata": {
    "papermill": {
     "duration": 0.007068,
     "end_time": "2024-01-05T12:19:29.658747",
     "exception": false,
     "start_time": "2024-01-05T12:19:29.651679",
     "status": "completed"
    },
    "tags": []
   },
   "source": [
    "**_After the code cell above is marked correct_**, run the code cell below without changes to view the first five rows of the data."
   ]
  },
  {
   "cell_type": "code",
   "execution_count": 6,
   "id": "5820c127",
   "metadata": {
    "execution": {
     "iopub.execute_input": "2024-01-05T12:19:29.675954Z",
     "iopub.status.busy": "2024-01-05T12:19:29.675536Z",
     "iopub.status.idle": "2024-01-05T12:19:29.705475Z",
     "shell.execute_reply": "2024-01-05T12:19:29.704043Z"
    },
    "papermill": {
     "duration": 0.042453,
     "end_time": "2024-01-05T12:19:29.708491",
     "exception": false,
     "start_time": "2024-01-05T12:19:29.666038",
     "status": "completed"
    },
    "tags": []
   },
   "outputs": [
    {
     "data": {
      "text/html": [
       "<div>\n",
       "<style scoped>\n",
       "    .dataframe tbody tr th:only-of-type {\n",
       "        vertical-align: middle;\n",
       "    }\n",
       "\n",
       "    .dataframe tbody tr th {\n",
       "        vertical-align: top;\n",
       "    }\n",
       "\n",
       "    .dataframe thead th {\n",
       "        text-align: right;\n",
       "    }\n",
       "</style>\n",
       "<table border=\"1\" class=\"dataframe\">\n",
       "  <thead>\n",
       "    <tr style=\"text-align: right;\">\n",
       "      <th></th>\n",
       "      <th>Id</th>\n",
       "      <th>SepalLengthCm</th>\n",
       "      <th>SepalWidthCm</th>\n",
       "      <th>PetalLengthCm</th>\n",
       "      <th>PetalWidthCm</th>\n",
       "      <th>Species</th>\n",
       "    </tr>\n",
       "  </thead>\n",
       "  <tbody>\n",
       "    <tr>\n",
       "      <th>0</th>\n",
       "      <td>1</td>\n",
       "      <td>5.1</td>\n",
       "      <td>3.5</td>\n",
       "      <td>1.4</td>\n",
       "      <td>0.2</td>\n",
       "      <td>Iris-setosa</td>\n",
       "    </tr>\n",
       "    <tr>\n",
       "      <th>1</th>\n",
       "      <td>2</td>\n",
       "      <td>4.9</td>\n",
       "      <td>3.0</td>\n",
       "      <td>1.4</td>\n",
       "      <td>0.2</td>\n",
       "      <td>Iris-setosa</td>\n",
       "    </tr>\n",
       "    <tr>\n",
       "      <th>2</th>\n",
       "      <td>3</td>\n",
       "      <td>4.7</td>\n",
       "      <td>3.2</td>\n",
       "      <td>1.3</td>\n",
       "      <td>0.2</td>\n",
       "      <td>Iris-setosa</td>\n",
       "    </tr>\n",
       "    <tr>\n",
       "      <th>3</th>\n",
       "      <td>4</td>\n",
       "      <td>4.6</td>\n",
       "      <td>3.1</td>\n",
       "      <td>1.5</td>\n",
       "      <td>0.2</td>\n",
       "      <td>Iris-setosa</td>\n",
       "    </tr>\n",
       "    <tr>\n",
       "      <th>4</th>\n",
       "      <td>5</td>\n",
       "      <td>5.0</td>\n",
       "      <td>3.6</td>\n",
       "      <td>1.4</td>\n",
       "      <td>0.2</td>\n",
       "      <td>Iris-setosa</td>\n",
       "    </tr>\n",
       "  </tbody>\n",
       "</table>\n",
       "</div>"
      ],
      "text/plain": [
       "   Id  SepalLengthCm  SepalWidthCm  PetalLengthCm  PetalWidthCm      Species\n",
       "0   1            5.1           3.5            1.4           0.2  Iris-setosa\n",
       "1   2            4.9           3.0            1.4           0.2  Iris-setosa\n",
       "2   3            4.7           3.2            1.3           0.2  Iris-setosa\n",
       "3   4            4.6           3.1            1.5           0.2  Iris-setosa\n",
       "4   5            5.0           3.6            1.4           0.2  Iris-setosa"
      ]
     },
     "execution_count": 6,
     "metadata": {},
     "output_type": "execute_result"
    }
   ],
   "source": [
    "# Print the first five rows of the data\n",
    "my_data.head()"
   ]
  },
  {
   "cell_type": "markdown",
   "id": "5815f55e",
   "metadata": {
    "papermill": {
     "duration": 0.007272,
     "end_time": "2024-01-05T12:19:29.724153",
     "exception": false,
     "start_time": "2024-01-05T12:19:29.716881",
     "status": "completed"
    },
    "tags": []
   },
   "source": [
    "## Step 4: Visualize the data\n",
    "\n",
    "Use the next code cell to create a figure that tells a story behind your dataset.  You can use any chart type (_line chart, bar chart, heatmap, etc_) of your choosing!"
   ]
  },
  {
   "cell_type": "code",
   "execution_count": 7,
   "id": "57f7b7ba",
   "metadata": {
    "execution": {
     "iopub.execute_input": "2024-01-05T12:19:29.740880Z",
     "iopub.status.busy": "2024-01-05T12:19:29.740442Z",
     "iopub.status.idle": "2024-01-05T12:19:29.749485Z",
     "shell.execute_reply": "2024-01-05T12:19:29.748022Z"
    },
    "papermill": {
     "duration": 0.021251,
     "end_time": "2024-01-05T12:19:29.752938",
     "exception": false,
     "start_time": "2024-01-05T12:19:29.731687",
     "status": "completed"
    },
    "tags": []
   },
   "outputs": [
    {
     "data": {
      "text/plain": [
       "Index(['Id', 'SepalLengthCm', 'SepalWidthCm', 'PetalLengthCm', 'PetalWidthCm',\n",
       "       'Species'],\n",
       "      dtype='object')"
      ]
     },
     "execution_count": 7,
     "metadata": {},
     "output_type": "execute_result"
    }
   ],
   "source": [
    "my_data.columns"
   ]
  },
  {
   "cell_type": "code",
   "execution_count": 8,
   "id": "4e796bf0",
   "metadata": {
    "execution": {
     "iopub.execute_input": "2024-01-05T12:19:29.771093Z",
     "iopub.status.busy": "2024-01-05T12:19:29.770654Z",
     "iopub.status.idle": "2024-01-05T12:19:30.277720Z",
     "shell.execute_reply": "2024-01-05T12:19:30.276616Z"
    },
    "papermill": {
     "duration": 0.519485,
     "end_time": "2024-01-05T12:19:30.280620",
     "exception": false,
     "start_time": "2024-01-05T12:19:29.761135",
     "status": "completed"
    },
    "tags": []
   },
   "outputs": [
    {
     "data": {
      "application/javascript": [
       "parent.postMessage({\"jupyterEvent\": \"custom.exercise_interaction\", \"data\": {\"outcomeType\": 1, \"valueTowardsCompletion\": 0.25, \"interactionType\": 1, \"questionType\": 2, \"questionId\": \"4_CreatePlot\", \"learnToolsVersion\": \"0.3.4\", \"failureMessage\": \"\", \"exceptionClass\": \"\", \"trace\": \"\"}}, \"*\")"
      ],
      "text/plain": [
       "<IPython.core.display.Javascript object>"
      ]
     },
     "metadata": {},
     "output_type": "display_data"
    },
    {
     "data": {
      "text/markdown": [
       "<span style=\"color:#33cc33\">Correct:</span> \n",
       "\n"
      ],
      "text/plain": [
       "Correct: \n"
      ]
     },
     "metadata": {},
     "output_type": "display_data"
    },
    {
     "data": {
      "image/png": "[encoded data removed]",
      "text/plain": [
       "<Figure size 1000x500 with 1 Axes>"
      ]
     },
     "metadata": {},
     "output_type": "display_data"
    }
   ],
   "source": [
    "# Set the width and height of the figure\n",
    "plt.figure(figsize=(10,5))\n",
    "\n",
    "# Add title\n",
    "plt.title(\"Iris\")\n",
    "\n",
    "# Create a plot\n",
    "sns.barplot(x=my_data['Species'], y=my_data.index)\n",
    "\n",
    "# Check that a figure appears below\n",
    "step_4.check()"
   ]
  },
  {
   "cell_type": "markdown",
   "id": "9c40c4cc",
   "metadata": {
    "papermill": {
     "duration": 0.008082,
     "end_time": "2024-01-05T12:19:30.298494",
     "exception": false,
     "start_time": "2024-01-05T12:19:30.290412",
     "status": "completed"
    },
    "tags": []
   },
   "source": [
    "## Keep going\n",
    "\n",
    "Learn how to use your skills after completing the micro-course to create data visualizations in a **[final tutorial](https://www.kaggle.com/alexisbcook/creating-your-own-notebooks)**."
   ]
  },
  {
   "cell_type": "markdown",
   "id": "af3d1680",
   "metadata": {
    "papermill": {
     "duration": 0.008034,
     "end_time": "2024-01-05T12:19:30.315228",
     "exception": false,
     "start_time": "2024-01-05T12:19:30.307194",
     "status": "completed"
    },
    "tags": []
   },
   "source": [
    "---\n",
    "\n",
    "\n",
    "\n",
    "\n",
    "*Have questions or comments? Visit the [course discussion forum](https://www.kaggle.com/learn/data-visualization/discussion) to chat with other learners.*"
   ]
  }
 ],
 "metadata": {
  "kaggle": {
   "accelerator": "none",
   "dataSources": [
    {
     "datasetId": 4185513,
     "sourceId": 7229326,
     "sourceType": "datasetVersion"
    }
   ],
   "isGpuEnabled": false,
   "isInternetEnabled": false,
   "language": "python",
   "sourceType": "notebook"
  },
  "kernelspec": {
   "display_name": "Python 3",
   "language": "python",
   "name": "python3"
  },
  "language_info": {
   "codemirror_mode": {
    "name": "ipython",
    "version": 3
   },
   "file_extension": ".py",
   "mimetype": "text/x-python",
   "name": "python",
   "nbconvert_exporter": "python",
   "pygments_lexer": "ipython3",
   "version": "3.10.12"
  },
  "papermill": {
   "default_parameters": {},
   "duration": 7.575714,
   "end_time": "2024-01-05T12:19:31.048445",
   "environment_variables": {},
   "exception": null,
   "input_path": "__notebook__.ipynb",
   "output_path": "__notebook__.ipynb",
   "parameters": {},
   "start_time": "2024-01-05T12:19:23.472731",
   "version": "2.4.0"
  }
 },
 "nbformat": 4,
 "nbformat_minor": 5
}
