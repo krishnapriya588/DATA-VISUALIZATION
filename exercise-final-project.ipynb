{
 "cells": [
  {
   "cell_type": "markdown",
   "id": "13d3fbce",
   "metadata": {
    "papermill": {
     "duration": 0.006313,
     "end_time": "2024-01-05T10:40:44.561066",
     "exception": false,
     "start_time": "2024-01-05T10:40:44.554753",
     "status": "completed"
    },
    "tags": []
   },
   "source": [
    "**This notebook is an exercise in the [Data Visualization](https://www.kaggle.com/learn/data-visualization) course.  You can reference the tutorial at [this link](https://www.kaggle.com/alexisbcook/final-project).**\n",
    "\n",
    "---\n"
   ]
  },
  {
   "cell_type": "markdown",
   "id": "ef594349",
   "metadata": {
    "papermill": {
     "duration": 0.005324,
     "end_time": "2024-01-05T10:40:44.572340",
     "exception": false,
     "start_time": "2024-01-05T10:40:44.567016",
     "status": "completed"
    },
    "tags": []
   },
   "source": [
    "Now it's time for you to demonstrate your new skills with a project of your own!\n",
    "\n",
    "In this exercise, you will work with a dataset of your choosing.  Once you've selected a dataset, you'll design and create your own plot to tell interesting stories behind the data!\n",
    "\n",
    "## Setup\n",
    "\n",
    "Run the next cell to import and configure the Python libraries that you need to complete the exercise."
   ]
  },
  {
   "cell_type": "code",
   "execution_count": 1,
   "id": "5fbb618f",
   "metadata": {
    "execution": {
     "iopub.execute_input": "2024-01-05T10:40:44.586466Z",
     "iopub.status.busy": "2024-01-05T10:40:44.585752Z",
     "iopub.status.idle": "2024-01-05T10:40:46.579786Z",
     "shell.execute_reply": "2024-01-05T10:40:46.578575Z"
    },
    "papermill": {
     "duration": 2.005296,
     "end_time": "2024-01-05T10:40:46.583278",
     "exception": false,
     "start_time": "2024-01-05T10:40:44.577982",
     "status": "completed"
    },
    "tags": []
   },
   "outputs": [
    {
     "name": "stdout",
     "output_type": "stream",
     "text": [
      "Setup Complete\n"
     ]
    }
   ],
   "source": [
    "import pandas as pd\n",
    "pd.plotting.register_matplotlib_converters()\n",
    "import matplotlib.pyplot as plt\n",
    "%matplotlib inline\n",
    "import seaborn as sns\n",
    "print(\"Setup Complete\")"
   ]
  },
  {
   "cell_type": "markdown",
   "id": "e3a8f20c",
   "metadata": {
    "papermill": {
     "duration": 0.006274,
     "end_time": "2024-01-05T10:40:46.595867",
     "exception": false,
     "start_time": "2024-01-05T10:40:46.589593",
     "status": "completed"
    },
    "tags": []
   },
   "source": [
    "The questions below will give you feedback on your work. Run the following cell to set up the feedback system."
   ]
  },
  {
   "cell_type": "code",
   "execution_count": 2,
   "id": "d9068cdc",
   "metadata": {
    "execution": {
     "iopub.execute_input": "2024-01-05T10:40:46.610783Z",
     "iopub.status.busy": "2024-01-05T10:40:46.610194Z",
     "iopub.status.idle": "2024-01-05T10:40:46.660790Z",
     "shell.execute_reply": "2024-01-05T10:40:46.659917Z"
    },
    "papermill": {
     "duration": 0.061029,
     "end_time": "2024-01-05T10:40:46.663279",
     "exception": false,
     "start_time": "2024-01-05T10:40:46.602250",
     "status": "completed"
    },
    "tags": []
   },
   "outputs": [
    {
     "name": "stdout",
     "output_type": "stream",
     "text": [
      "Setup Complete\n"
     ]
    }
   ],
   "source": [
    "# Set up code checking\n",
    "from learntools.core import binder\n",
    "binder.bind(globals())\n",
    "from learntools.data_viz_to_coder.ex7 import *\n",
    "print(\"Setup Complete\")"
   ]
  },
  {
   "cell_type": "markdown",
   "id": "2331e06f",
   "metadata": {
    "papermill": {
     "duration": 0.005868,
     "end_time": "2024-01-05T10:40:46.676029",
     "exception": false,
     "start_time": "2024-01-05T10:40:46.670161",
     "status": "completed"
    },
    "tags": []
   },
   "source": [
    "## Step 1: Attach a dataset to the notebook\n",
    "\n",
    "Begin by selecting a CSV dataset from [Kaggle Datasets](https://www.kaggle.com/datasets).  If you're unsure how to do this, please revisit the instructions in the previous tutorial.\n",
    "\n",
    "Once you have selected a dataset, click on the **[+ Add data]** option in the top right corner.  This will generate a pop-up window that you can use to search for your chosen dataset.  \n",
    "\n",
    "![ex6_search_dataset](https://storage.googleapis.com/kaggle-media/learn/images/cIIWPUS.png)\n",
    "\n",
    "Once you have found the dataset, click on the **[Add]** button to attach it to the notebook.  You can check that it was successful by looking at the **Data** dropdown menu to the right of the notebook -- look for an **input** folder containing a subfolder that matches the name of the dataset.\n",
    "\n",
    "<center>\n",
    "<img src=\"https://storage.googleapis.com/kaggle-media/learn/images/nMYc1Nu.png\" width=30%><br/>\n",
    "</center>\n",
    "\n",
    "You can click on the carat to the left of the name of the dataset to double-check that it contains a CSV file.  For instance, the image below shows that the example dataset contains two CSV files: (1) **dc-wikia-data.csv**, and (2) **marvel-wikia-data.csv**.\n",
    "\n",
    "<center>\n",
    "<img src=\"https://storage.googleapis.com/kaggle-media/learn/images/B4sJkVA.png\" width=30%><br/>\n",
    "</center>\n",
    "\n",
    "Once you've uploaded a dataset with a CSV file, run the code cell below **without changes** to receive credit for your work!"
   ]
  },
  {
   "cell_type": "code",
   "execution_count": 3,
   "id": "0cc657a2",
   "metadata": {
    "execution": {
     "iopub.execute_input": "2024-01-05T10:40:46.690453Z",
     "iopub.status.busy": "2024-01-05T10:40:46.689351Z",
     "iopub.status.idle": "2024-01-05T10:40:46.706253Z",
     "shell.execute_reply": "2024-01-05T10:40:46.705146Z"
    },
    "papermill": {
     "duration": 0.027459,
     "end_time": "2024-01-05T10:40:46.709480",
     "exception": false,
     "start_time": "2024-01-05T10:40:46.682021",
     "status": "completed"
    },
    "tags": []
   },
   "outputs": [
    {
     "data": {
      "application/javascript": [
       "parent.postMessage({\"jupyterEvent\": \"custom.exercise_interaction\", \"data\": {\"outcomeType\": 1, \"valueTowardsCompletion\": 0.25, \"interactionType\": 1, \"questionType\": 2, \"questionId\": \"1_AttachData\", \"learnToolsVersion\": \"0.3.4\", \"failureMessage\": \"\", \"exceptionClass\": \"\", \"trace\": \"\"}}, \"*\")"
      ],
      "text/plain": [
       "<IPython.core.display.Javascript object>"
      ]
     },
     "metadata": {},
     "output_type": "display_data"
    },
    {
     "data": {
      "text/markdown": [
       "<span style=\"color:#33cc33\">Correct:</span> \n",
       "\n"
      ],
      "text/plain": [
       "Correct: \n"
      ]
     },
     "metadata": {},
     "output_type": "display_data"
    }
   ],
   "source": [
    "\n",
    "step_1.check()\n"
   ]
  },
  {
   "cell_type": "markdown",
   "id": "b5b1aa3a",
   "metadata": {
    "papermill": {
     "duration": 0.006197,
     "end_time": "2024-01-05T10:40:46.722374",
     "exception": false,
     "start_time": "2024-01-05T10:40:46.716177",
     "status": "completed"
    },
    "tags": []
   },
   "source": [
    "## Step 2: Specify the filepath\n",
    "\n",
    "Now that the dataset is attached to the notebook, you can find its filepath.  To do this, begin by clicking on the CSV file you'd like to use.  This will open the CSV file in a tab below the notebook.  You can find the filepath towards the top of this new tab.  \n",
    "\n",
    "![ex6_filepath](https://storage.googleapis.com/kaggle-media/learn/images/fgXQV47.png)\n",
    "\n",
    "After you find the filepath corresponding to your dataset, fill it in as the value for `my_filepath` in the code cell below, and run the code cell to check that you've provided a valid filepath.  For instance, in the case of this example dataset, we would set\n",
    "```\n",
    "my_filepath = \"../input/fivethirtyeight-comic-characters-dataset/dc-wikia-data.csv\"\n",
    "```  \n",
    "Note that **you must enclose the filepath in quotation marks**; otherwise, the code will return an error.\n",
    "\n",
    "Once you've entered the filepath, you can close the tab below the notebook by clicking on the **[X]** at the top of the tab."
   ]
  },
  {
   "cell_type": "code",
   "execution_count": 4,
   "id": "0c90ceda",
   "metadata": {
    "execution": {
     "iopub.execute_input": "2024-01-05T10:40:46.737746Z",
     "iopub.status.busy": "2024-01-05T10:40:46.737073Z",
     "iopub.status.idle": "2024-01-05T10:40:46.764796Z",
     "shell.execute_reply": "2024-01-05T10:40:46.763615Z"
    },
    "papermill": {
     "duration": 0.037962,
     "end_time": "2024-01-05T10:40:46.767184",
     "exception": false,
     "start_time": "2024-01-05T10:40:46.729222",
     "status": "completed"
    },
    "tags": []
   },
   "outputs": [
    {
     "data": {
      "application/javascript": [
       "parent.postMessage({\"jupyterEvent\": \"custom.exercise_interaction\", \"data\": {\"outcomeType\": 1, \"valueTowardsCompletion\": 0.25, \"interactionType\": 1, \"questionType\": 2, \"questionId\": \"3_LoadData\", \"learnToolsVersion\": \"0.3.4\", \"failureMessage\": \"\", \"exceptionClass\": \"\", \"trace\": \"\"}}, \"*\")"
      ],
      "text/plain": [
       "<IPython.core.display.Javascript object>"
      ]
     },
     "metadata": {},
     "output_type": "display_data"
    },
    {
     "data": {
      "text/markdown": [
       "<span style=\"color:#33cc33\">Correct:</span> \n",
       "\n"
      ],
      "text/plain": [
       "Correct: \n"
      ]
     },
     "metadata": {},
     "output_type": "display_data"
    }
   ],
   "source": [
    "# Fill in the line below: Specify the path of the CSV file to read\n",
    "my_data = pd.read_csv(\"/kaggle/input/irisdat/Iris.csv\")\n",
    "\n",
    "\n",
    "# Check for a valid filepath to a CSV file in a dataset\n",
    "step_3.check()"
   ]
  },
  {
   "cell_type": "markdown",
   "id": "1647431d",
   "metadata": {
    "papermill": {
     "duration": 0.00669,
     "end_time": "2024-01-05T10:40:46.780948",
     "exception": false,
     "start_time": "2024-01-05T10:40:46.774258",
     "status": "completed"
    },
    "tags": []
   },
   "source": [
    "## Step 3: Load the data\n",
    "\n",
    "Use the next code cell to load your data file into `my_data`.  Use the filepath that you specified in the previous step."
   ]
  },
  {
   "cell_type": "code",
   "execution_count": 5,
   "id": "f1a7c06e",
   "metadata": {
    "execution": {
     "iopub.execute_input": "2024-01-05T10:40:46.796413Z",
     "iopub.status.busy": "2024-01-05T10:40:46.796022Z",
     "iopub.status.idle": "2024-01-05T10:40:46.807609Z",
     "shell.execute_reply": "2024-01-05T10:40:46.806306Z"
    },
    "papermill": {
     "duration": 0.022147,
     "end_time": "2024-01-05T10:40:46.809937",
     "exception": false,
     "start_time": "2024-01-05T10:40:46.787790",
     "status": "completed"
    },
    "tags": []
   },
   "outputs": [
    {
     "data": {
      "application/javascript": [
       "parent.postMessage({\"jupyterEvent\": \"custom.exercise_interaction\", \"data\": {\"outcomeType\": 1, \"valueTowardsCompletion\": 0.25, \"interactionType\": 1, \"questionType\": 2, \"questionId\": \"3_LoadData\", \"learnToolsVersion\": \"0.3.4\", \"failureMessage\": \"\", \"exceptionClass\": \"\", \"trace\": \"\"}}, \"*\")"
      ],
      "text/plain": [
       "<IPython.core.display.Javascript object>"
      ]
     },
     "metadata": {},
     "output_type": "display_data"
    },
    {
     "data": {
      "text/markdown": [
       "<span style=\"color:#33cc33\">Correct:</span> \n",
       "\n"
      ],
      "text/plain": [
       "Correct: \n"
      ]
     },
     "metadata": {},
     "output_type": "display_data"
    }
   ],
   "source": [
    "my_data = pd.read_csv(\"/kaggle/input/irisdat/Iris.csv\")\n",
    "   \n",
    "# Check that a dataset has been uploaded into my_data\n",
    "step_3.check()"
   ]
  },
  {
   "cell_type": "markdown",
   "id": "af4ee67b",
   "metadata": {
    "papermill": {
     "duration": 0.006804,
     "end_time": "2024-01-05T10:40:46.824157",
     "exception": false,
     "start_time": "2024-01-05T10:40:46.817353",
     "status": "completed"
    },
    "tags": []
   },
   "source": [
    "**_After the code cell above is marked correct_**, run the code cell below without changes to view the first five rows of the data."
   ]
  },
  {
   "cell_type": "code",
   "execution_count": 6,
   "id": "33b2cb04",
   "metadata": {
    "execution": {
     "iopub.execute_input": "2024-01-05T10:40:46.840300Z",
     "iopub.status.busy": "2024-01-05T10:40:46.839676Z",
     "iopub.status.idle": "2024-01-05T10:40:46.867542Z",
     "shell.execute_reply": "2024-01-05T10:40:46.866659Z"
    },
    "papermill": {
     "duration": 0.038665,
     "end_time": "2024-01-05T10:40:46.869849",
     "exception": false,
     "start_time": "2024-01-05T10:40:46.831184",
     "status": "completed"
    },
    "tags": []
   },
   "outputs": [
    {
     "data": {
      "text/html": [
       "<div>\n",
       "<style scoped>\n",
       "    .dataframe tbody tr th:only-of-type {\n",
       "        vertical-align: middle;\n",
       "    }\n",
       "\n",
       "    .dataframe tbody tr th {\n",
       "        vertical-align: top;\n",
       "    }\n",
       "\n",
       "    .dataframe thead th {\n",
       "        text-align: right;\n",
       "    }\n",
       "</style>\n",
       "<table border=\"1\" class=\"dataframe\">\n",
       "  <thead>\n",
       "    <tr style=\"text-align: right;\">\n",
       "      <th></th>\n",
       "      <th>Id</th>\n",
       "      <th>SepalLengthCm</th>\n",
       "      <th>SepalWidthCm</th>\n",
       "      <th>PetalLengthCm</th>\n",
       "      <th>PetalWidthCm</th>\n",
       "      <th>Species</th>\n",
       "    </tr>\n",
       "  </thead>\n",
       "  <tbody>\n",
       "    <tr>\n",
       "      <th>0</th>\n",
       "      <td>1</td>\n",
       "      <td>5.1</td>\n",
       "      <td>3.5</td>\n",
       "      <td>1.4</td>\n",
       "      <td>0.2</td>\n",
       "      <td>Iris-setosa</td>\n",
       "    </tr>\n",
       "    <tr>\n",
       "      <th>1</th>\n",
       "      <td>2</td>\n",
       "      <td>4.9</td>\n",
       "      <td>3.0</td>\n",
       "      <td>1.4</td>\n",
       "      <td>0.2</td>\n",
       "      <td>Iris-setosa</td>\n",
       "    </tr>\n",
       "    <tr>\n",
       "      <th>2</th>\n",
       "      <td>3</td>\n",
       "      <td>4.7</td>\n",
       "      <td>3.2</td>\n",
       "      <td>1.3</td>\n",
       "      <td>0.2</td>\n",
       "      <td>Iris-setosa</td>\n",
       "    </tr>\n",
       "    <tr>\n",
       "      <th>3</th>\n",
       "      <td>4</td>\n",
       "      <td>4.6</td>\n",
       "      <td>3.1</td>\n",
       "      <td>1.5</td>\n",
       "      <td>0.2</td>\n",
       "      <td>Iris-setosa</td>\n",
       "    </tr>\n",
       "    <tr>\n",
       "      <th>4</th>\n",
       "      <td>5</td>\n",
       "      <td>5.0</td>\n",
       "      <td>3.6</td>\n",
       "      <td>1.4</td>\n",
       "      <td>0.2</td>\n",
       "      <td>Iris-setosa</td>\n",
       "    </tr>\n",
       "  </tbody>\n",
       "</table>\n",
       "</div>"
      ],
      "text/plain": [
       "   Id  SepalLengthCm  SepalWidthCm  PetalLengthCm  PetalWidthCm      Species\n",
       "0   1            5.1           3.5            1.4           0.2  Iris-setosa\n",
       "1   2            4.9           3.0            1.4           0.2  Iris-setosa\n",
       "2   3            4.7           3.2            1.3           0.2  Iris-setosa\n",
       "3   4            4.6           3.1            1.5           0.2  Iris-setosa\n",
       "4   5            5.0           3.6            1.4           0.2  Iris-setosa"
      ]
     },
     "execution_count": 6,
     "metadata": {},
     "output_type": "execute_result"
    }
   ],
   "source": [
    "# Print the first five rows of the data\n",
    "my_data.head()"
   ]
  },
  {
   "cell_type": "markdown",
   "id": "63be9398",
   "metadata": {
    "papermill": {
     "duration": 0.007033,
     "end_time": "2024-01-05T10:40:46.884417",
     "exception": false,
     "start_time": "2024-01-05T10:40:46.877384",
     "status": "completed"
    },
    "tags": []
   },
   "source": [
    "## Step 4: Visualize the data\n",
    "\n",
    "Use the next code cell to create a figure that tells a story behind your dataset.  You can use any chart type (_line chart, bar chart, heatmap, etc_) of your choosing!"
   ]
  },
  {
   "cell_type": "code",
   "execution_count": 7,
   "id": "ecc5a157",
   "metadata": {
    "execution": {
     "iopub.execute_input": "2024-01-05T10:40:46.900593Z",
     "iopub.status.busy": "2024-01-05T10:40:46.900155Z",
     "iopub.status.idle": "2024-01-05T10:40:46.908226Z",
     "shell.execute_reply": "2024-01-05T10:40:46.906975Z"
    },
    "papermill": {
     "duration": 0.019366,
     "end_time": "2024-01-05T10:40:46.910986",
     "exception": false,
     "start_time": "2024-01-05T10:40:46.891620",
     "status": "completed"
    },
    "tags": []
   },
   "outputs": [
    {
     "data": {
      "text/plain": [
       "Index(['Id', 'SepalLengthCm', 'SepalWidthCm', 'PetalLengthCm', 'PetalWidthCm',\n",
       "       'Species'],\n",
       "      dtype='object')"
      ]
     },
     "execution_count": 7,
     "metadata": {},
     "output_type": "execute_result"
    }
   ],
   "source": [
    "my_data.columns"
   ]
  },
  {
   "cell_type": "code",
   "execution_count": 8,
   "id": "fac7e9ab",
   "metadata": {
    "execution": {
     "iopub.execute_input": "2024-01-05T10:40:46.927616Z",
     "iopub.status.busy": "2024-01-05T10:40:46.927226Z",
     "iopub.status.idle": "2024-01-05T10:40:47.326503Z",
     "shell.execute_reply": "2024-01-05T10:40:47.325297Z"
    },
    "papermill": {
     "duration": 0.410505,
     "end_time": "2024-01-05T10:40:47.328933",
     "exception": false,
     "start_time": "2024-01-05T10:40:46.918428",
     "status": "completed"
    },
    "tags": []
   },
   "outputs": [
    {
     "data": {
      "application/javascript": [
       "parent.postMessage({\"jupyterEvent\": \"custom.exercise_interaction\", \"data\": {\"outcomeType\": 1, \"valueTowardsCompletion\": 0.25, \"interactionType\": 1, \"questionType\": 2, \"questionId\": \"4_CreatePlot\", \"learnToolsVersion\": \"0.3.4\", \"failureMessage\": \"\", \"exceptionClass\": \"\", \"trace\": \"\"}}, \"*\")"
      ],
      "text/plain": [
       "<IPython.core.display.Javascript object>"
      ]
     },
     "metadata": {},
     "output_type": "display_data"
    },
    {
     "data": {
      "text/markdown": [
       "<span style=\"color:#33cc33\">Correct:</span> \n",
       "\n"
      ],
      "text/plain": [
       "Correct: \n"
      ]
     },
     "metadata": {},
     "output_type": "display_data"
    },
    {
     "data": {
      "image/png": "[encoded data removed]",
      "text/plain": [
       "<Figure size 1000x500 with 1 Axes>"
      ]
     },
     "metadata": {},
     "output_type": "display_data"
    }
   ],
   "source": [
    "# Set the width and height of the figure\n",
    "plt.figure(figsize=(10,5))\n",
    "\n",
    "# Add title\n",
    "plt.title(\"Iris\")\n",
    "\n",
    "# Create a plot\n",
    "sns.barplot(x=my_data['Species'], y=my_data.index)\n",
    "\n",
    "# Check that a figure appears below\n",
    "step_4.check()"
   ]
  },
  {
   "cell_type": "markdown",
   "id": "a3a43d8f",
   "metadata": {
    "papermill": {
     "duration": 0.008148,
     "end_time": "2024-01-05T10:40:47.345544",
     "exception": false,
     "start_time": "2024-01-05T10:40:47.337396",
     "status": "completed"
    },
    "tags": []
   },
   "source": [
    "## Keep going\n",
    "\n",
    "Learn how to use your skills after completing the micro-course to create data visualizations in a **[final tutorial](https://www.kaggle.com/alexisbcook/creating-your-own-notebooks)**."
   ]
  },
  {
   "cell_type": "markdown",
   "id": "74c042d0",
   "metadata": {
    "papermill": {
     "duration": 0.007739,
     "end_time": "2024-01-05T10:40:47.361788",
     "exception": false,
     "start_time": "2024-01-05T10:40:47.354049",
     "status": "completed"
    },
    "tags": []
   },
   "source": [
    "---\n",
    "\n",
    "\n",
    "\n",
    "\n",
    "*Have questions or comments? Visit the [course discussion forum](https://www.kaggle.com/learn/data-visualization/discussion) to chat with other learners.*"
   ]
  }
 ],
 "metadata": {
  "kaggle": {
   "accelerator": "none",
   "dataSources": [
    {
     "datasetId": 4185513,
     "sourceId": 7229326,
     "sourceType": "datasetVersion"
    }
   ],
   "isGpuEnabled": false,
   "isInternetEnabled": false,
   "language": "python",
   "sourceType": "notebook"
  },
  "kernelspec": {
   "display_name": "Python 3",
   "language": "python",
   "name": "python3"
  },
  "language_info": {
   "codemirror_mode": {
    "name": "ipython",
    "version": 3
   },
   "file_extension": ".py",
   "mimetype": "text/x-python",
   "name": "python",
   "nbconvert_exporter": "python",
   "pygments_lexer": "ipython3",
   "version": "3.10.12"
  },
  "papermill": {
   "default_parameters": {},
   "duration": 7.005027,
   "end_time": "2024-01-05T10:40:47.993032",
   "environment_variables": {},
   "exception": null,
   "input_path": "__notebook__.ipynb",
   "output_path": "__notebook__.ipynb",
   "parameters": {},
   "start_time": "2024-01-05T10:40:40.988005",
   "version": "2.4.0"
  }
 },
 "nbformat": 4,
 "nbformat_minor": 5
}
