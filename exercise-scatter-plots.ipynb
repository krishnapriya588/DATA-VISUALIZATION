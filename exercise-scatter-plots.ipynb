{
 "cells": [
  {
   "cell_type": "markdown",
   "id": "cf23ba91",
   "metadata": {
    "papermill": {
     "duration": 0.012389,
     "end_time": "2024-01-05T12:13:39.282468",
     "exception": false,
     "start_time": "2024-01-05T12:13:39.270079",
     "status": "completed"
    },
    "tags": []
   },
   "source": [
    "**This notebook is an exercise in the [Data Visualization](https://www.kaggle.com/learn/data-visualization) course.  You can reference the tutorial at [this link](https://www.kaggle.com/alexisbcook/scatter-plots).**\n",
    "\n",
    "---\n"
   ]
  },
  {
   "cell_type": "markdown",
   "id": "83d91778",
   "metadata": {
    "papermill": {
     "duration": 0.011331,
     "end_time": "2024-01-05T12:13:39.305690",
     "exception": false,
     "start_time": "2024-01-05T12:13:39.294359",
     "status": "completed"
    },
    "tags": []
   },
   "source": [
    "In this exercise, you will use your new knowledge to propose a solution to a real-world scenario.  To succeed, you will need to import data into Python, answer questions using the data, and generate **scatter plots** to understand patterns in the data.\n",
    "\n",
    "## Scenario\n",
    "\n",
    "You work for a major candy producer, and your goal is to write a report that your company can use to guide the design of its next product.  Soon after starting your research, you stumble across this [very interesting dataset](https://fivethirtyeight.com/features/the-ultimate-halloween-candy-power-ranking/) containing results from a fun survey to crowdsource favorite candies.\n",
    "\n",
    "## Setup\n",
    "\n",
    "Run the next cell to import and configure the Python libraries that you need to complete the exercise."
   ]
  },
  {
   "cell_type": "code",
   "execution_count": 1,
   "id": "88c100ae",
   "metadata": {
    "execution": {
     "iopub.execute_input": "2024-01-05T12:13:39.332229Z",
     "iopub.status.busy": "2024-01-05T12:13:39.331772Z",
     "iopub.status.idle": "2024-01-05T12:13:41.508827Z",
     "shell.execute_reply": "2024-01-05T12:13:41.507539Z"
    },
    "papermill": {
     "duration": 2.19367,
     "end_time": "2024-01-05T12:13:41.511919",
     "exception": false,
     "start_time": "2024-01-05T12:13:39.318249",
     "status": "completed"
    },
    "tags": []
   },
   "outputs": [
    {
     "name": "stdout",
     "output_type": "stream",
     "text": [
      "Setup Complete\n"
     ]
    }
   ],
   "source": [
    "import pandas as pd\n",
    "pd.plotting.register_matplotlib_converters()\n",
    "import matplotlib.pyplot as plt\n",
    "%matplotlib inline\n",
    "import seaborn as sns\n",
    "print(\"Setup Complete\")"
   ]
  },
  {
   "cell_type": "markdown",
   "id": "d100fcff",
   "metadata": {
    "papermill": {
     "duration": 0.011945,
     "end_time": "2024-01-05T12:13:41.536061",
     "exception": false,
     "start_time": "2024-01-05T12:13:41.524116",
     "status": "completed"
    },
    "tags": []
   },
   "source": [
    "The questions below will give you feedback on your work. Run the following cell to set up our feedback system."
   ]
  },
  {
   "cell_type": "code",
   "execution_count": 2,
   "id": "84a9e786",
   "metadata": {
    "execution": {
     "iopub.execute_input": "2024-01-05T12:13:41.562808Z",
     "iopub.status.busy": "2024-01-05T12:13:41.562271Z",
     "iopub.status.idle": "2024-01-05T12:13:41.644754Z",
     "shell.execute_reply": "2024-01-05T12:13:41.643792Z"
    },
    "papermill": {
     "duration": 0.098952,
     "end_time": "2024-01-05T12:13:41.647249",
     "exception": false,
     "start_time": "2024-01-05T12:13:41.548297",
     "status": "completed"
    },
    "tags": []
   },
   "outputs": [
    {
     "name": "stdout",
     "output_type": "stream",
     "text": [
      "Setup Complete\n"
     ]
    }
   ],
   "source": [
    "# Set up code checking\n",
    "import os\n",
    "if not os.path.exists(\"../input/candy.csv\"):\n",
    "    os.symlink(\"../input/data-for-datavis/candy.csv\", \"../input/candy.csv\") \n",
    "from learntools.core import binder\n",
    "binder.bind(globals())\n",
    "from learntools.data_viz_to_coder.ex4 import *\n",
    "print(\"Setup Complete\")"
   ]
  },
  {
   "cell_type": "markdown",
   "id": "3fd245c2",
   "metadata": {
    "papermill": {
     "duration": 0.011828,
     "end_time": "2024-01-05T12:13:41.671765",
     "exception": false,
     "start_time": "2024-01-05T12:13:41.659937",
     "status": "completed"
    },
    "tags": []
   },
   "source": [
    "## Step 1: Load the Data\n",
    "\n",
    "Read the candy data file into `candy_data`.  Use the `\"id\"` column to label the rows."
   ]
  },
  {
   "cell_type": "code",
   "execution_count": 3,
   "id": "b9a821e0",
   "metadata": {
    "execution": {
     "iopub.execute_input": "2024-01-05T12:13:41.698689Z",
     "iopub.status.busy": "2024-01-05T12:13:41.697767Z",
     "iopub.status.idle": "2024-01-05T12:13:41.717127Z",
     "shell.execute_reply": "2024-01-05T12:13:41.716007Z"
    },
    "papermill": {
     "duration": 0.035367,
     "end_time": "2024-01-05T12:13:41.719665",
     "exception": false,
     "start_time": "2024-01-05T12:13:41.684298",
     "status": "completed"
    },
    "tags": []
   },
   "outputs": [
    {
     "data": {
      "application/javascript": [
       "parent.postMessage({\"jupyterEvent\": \"custom.exercise_interaction\", \"data\": {\"outcomeType\": 1, \"valueTowardsCompletion\": 0.3333333333333333, \"interactionType\": 1, \"questionType\": 1, \"questionId\": \"1_LoadData\", \"learnToolsVersion\": \"0.3.4\", \"failureMessage\": \"\", \"exceptionClass\": \"\", \"trace\": \"\"}}, \"*\")"
      ],
      "text/plain": [
       "<IPython.core.display.Javascript object>"
      ]
     },
     "metadata": {},
     "output_type": "display_data"
    },
    {
     "data": {
      "text/markdown": [
       "<span style=\"color:#33cc33\">Correct</span>"
      ],
      "text/plain": [
       "Correct"
      ]
     },
     "metadata": {},
     "output_type": "display_data"
    }
   ],
   "source": [
    "# Path of the file to read\n",
    "candy_filepath = \"../input/candy.csv\"\n",
    "\n",
    "# Fill in the line below to read the file into a variable candy_data\n",
    "candy_data = pd.read_csv(candy_filepath, index_col=\"id\")\n",
    "\n",
    "# Run the line below with no changes to check that you've loaded the data correctly\n",
    "step_1.check()"
   ]
  },
  {
   "cell_type": "code",
   "execution_count": 4,
   "id": "55663b0b",
   "metadata": {
    "execution": {
     "iopub.execute_input": "2024-01-05T12:13:41.747092Z",
     "iopub.status.busy": "2024-01-05T12:13:41.746397Z",
     "iopub.status.idle": "2024-01-05T12:13:41.750417Z",
     "shell.execute_reply": "2024-01-05T12:13:41.749346Z"
    },
    "papermill": {
     "duration": 0.02036,
     "end_time": "2024-01-05T12:13:41.752917",
     "exception": false,
     "start_time": "2024-01-05T12:13:41.732557",
     "status": "completed"
    },
    "tags": []
   },
   "outputs": [],
   "source": [
    "# Lines below will give you a hint or solution code\n",
    "#step_1.hint()\n",
    "#step_1.solution()"
   ]
  },
  {
   "cell_type": "markdown",
   "id": "869aba92",
   "metadata": {
    "papermill": {
     "duration": 0.011972,
     "end_time": "2024-01-05T12:13:41.778311",
     "exception": false,
     "start_time": "2024-01-05T12:13:41.766339",
     "status": "completed"
    },
    "tags": []
   },
   "source": [
    "## Step 2: Review the data\n",
    "\n",
    "Use a Python command to print the first five rows of the data."
   ]
  },
  {
   "cell_type": "code",
   "execution_count": 5,
   "id": "b527e5e1",
   "metadata": {
    "execution": {
     "iopub.execute_input": "2024-01-05T12:13:41.805430Z",
     "iopub.status.busy": "2024-01-05T12:13:41.805013Z",
     "iopub.status.idle": "2024-01-05T12:13:41.830267Z",
     "shell.execute_reply": "2024-01-05T12:13:41.828857Z"
    },
    "papermill": {
     "duration": 0.042579,
     "end_time": "2024-01-05T12:13:41.833113",
     "exception": false,
     "start_time": "2024-01-05T12:13:41.790534",
     "status": "completed"
    },
    "tags": []
   },
   "outputs": [
    {
     "data": {
      "text/html": [
       "<div>\n",
       "<style scoped>\n",
       "    .dataframe tbody tr th:only-of-type {\n",
       "        vertical-align: middle;\n",
       "    }\n",
       "\n",
       "    .dataframe tbody tr th {\n",
       "        vertical-align: top;\n",
       "    }\n",
       "\n",
       "    .dataframe thead th {\n",
       "        text-align: right;\n",
       "    }\n",
       "</style>\n",
       "<table border=\"1\" class=\"dataframe\">\n",
       "  <thead>\n",
       "    <tr style=\"text-align: right;\">\n",
       "      <th></th>\n",
       "      <th>competitorname</th>\n",
       "      <th>chocolate</th>\n",
       "      <th>fruity</th>\n",
       "      <th>caramel</th>\n",
       "      <th>peanutyalmondy</th>\n",
       "      <th>nougat</th>\n",
       "      <th>crispedricewafer</th>\n",
       "      <th>hard</th>\n",
       "      <th>bar</th>\n",
       "      <th>pluribus</th>\n",
       "      <th>sugarpercent</th>\n",
       "      <th>pricepercent</th>\n",
       "      <th>winpercent</th>\n",
       "    </tr>\n",
       "    <tr>\n",
       "      <th>id</th>\n",
       "      <th></th>\n",
       "      <th></th>\n",
       "      <th></th>\n",
       "      <th></th>\n",
       "      <th></th>\n",
       "      <th></th>\n",
       "      <th></th>\n",
       "      <th></th>\n",
       "      <th></th>\n",
       "      <th></th>\n",
       "      <th></th>\n",
       "      <th></th>\n",
       "      <th></th>\n",
       "    </tr>\n",
       "  </thead>\n",
       "  <tbody>\n",
       "    <tr>\n",
       "      <th>0</th>\n",
       "      <td>100 Grand</td>\n",
       "      <td>Yes</td>\n",
       "      <td>No</td>\n",
       "      <td>Yes</td>\n",
       "      <td>No</td>\n",
       "      <td>No</td>\n",
       "      <td>Yes</td>\n",
       "      <td>No</td>\n",
       "      <td>Yes</td>\n",
       "      <td>No</td>\n",
       "      <td>0.732</td>\n",
       "      <td>0.860</td>\n",
       "      <td>66.971725</td>\n",
       "    </tr>\n",
       "    <tr>\n",
       "      <th>1</th>\n",
       "      <td>3 Musketeers</td>\n",
       "      <td>Yes</td>\n",
       "      <td>No</td>\n",
       "      <td>No</td>\n",
       "      <td>No</td>\n",
       "      <td>Yes</td>\n",
       "      <td>No</td>\n",
       "      <td>No</td>\n",
       "      <td>Yes</td>\n",
       "      <td>No</td>\n",
       "      <td>0.604</td>\n",
       "      <td>0.511</td>\n",
       "      <td>67.602936</td>\n",
       "    </tr>\n",
       "    <tr>\n",
       "      <th>2</th>\n",
       "      <td>Air Heads</td>\n",
       "      <td>No</td>\n",
       "      <td>Yes</td>\n",
       "      <td>No</td>\n",
       "      <td>No</td>\n",
       "      <td>No</td>\n",
       "      <td>No</td>\n",
       "      <td>No</td>\n",
       "      <td>No</td>\n",
       "      <td>No</td>\n",
       "      <td>0.906</td>\n",
       "      <td>0.511</td>\n",
       "      <td>52.341465</td>\n",
       "    </tr>\n",
       "    <tr>\n",
       "      <th>3</th>\n",
       "      <td>Almond Joy</td>\n",
       "      <td>Yes</td>\n",
       "      <td>No</td>\n",
       "      <td>No</td>\n",
       "      <td>Yes</td>\n",
       "      <td>No</td>\n",
       "      <td>No</td>\n",
       "      <td>No</td>\n",
       "      <td>Yes</td>\n",
       "      <td>No</td>\n",
       "      <td>0.465</td>\n",
       "      <td>0.767</td>\n",
       "      <td>50.347546</td>\n",
       "    </tr>\n",
       "    <tr>\n",
       "      <th>4</th>\n",
       "      <td>Baby Ruth</td>\n",
       "      <td>Yes</td>\n",
       "      <td>No</td>\n",
       "      <td>Yes</td>\n",
       "      <td>Yes</td>\n",
       "      <td>Yes</td>\n",
       "      <td>No</td>\n",
       "      <td>No</td>\n",
       "      <td>Yes</td>\n",
       "      <td>No</td>\n",
       "      <td>0.604</td>\n",
       "      <td>0.767</td>\n",
       "      <td>56.914547</td>\n",
       "    </tr>\n",
       "  </tbody>\n",
       "</table>\n",
       "</div>"
      ],
      "text/plain": [
       "   competitorname chocolate fruity caramel peanutyalmondy nougat  \\\n",
       "id                                                                 \n",
       "0       100 Grand       Yes     No     Yes             No     No   \n",
       "1    3 Musketeers       Yes     No      No             No    Yes   \n",
       "2       Air Heads        No    Yes      No             No     No   \n",
       "3      Almond Joy       Yes     No      No            Yes     No   \n",
       "4       Baby Ruth       Yes     No     Yes            Yes    Yes   \n",
       "\n",
       "   crispedricewafer hard  bar pluribus  sugarpercent  pricepercent  winpercent  \n",
       "id                                                                              \n",
       "0               Yes   No  Yes       No         0.732         0.860   66.971725  \n",
       "1                No   No  Yes       No         0.604         0.511   67.602936  \n",
       "2                No   No   No       No         0.906         0.511   52.341465  \n",
       "3                No   No  Yes       No         0.465         0.767   50.347546  \n",
       "4                No   No  Yes       No         0.604         0.767   56.914547  "
      ]
     },
     "execution_count": 5,
     "metadata": {},
     "output_type": "execute_result"
    }
   ],
   "source": [
    "# Print the first five rows of the data\n",
    "candy_data.head()# Your code here"
   ]
  },
  {
   "cell_type": "markdown",
   "id": "8008c997",
   "metadata": {
    "papermill": {
     "duration": 0.012428,
     "end_time": "2024-01-05T12:13:41.858832",
     "exception": false,
     "start_time": "2024-01-05T12:13:41.846404",
     "status": "completed"
    },
    "tags": []
   },
   "source": [
    "The dataset contains 83 rows, where each corresponds to a different candy bar.  There are 13 columns:\n",
    "- `'competitorname'` contains the name of the candy bar. \n",
    "- the next **9** columns (from `'chocolate'` to `'pluribus'`) describe the candy.  For instance, rows with chocolate candies have `\"Yes\"` in the `'chocolate'` column (and candies without chocolate have `\"No\"` in the same column).\n",
    "- `'sugarpercent'` provides some indication of the amount of sugar, where higher values signify higher sugar content.\n",
    "- `'pricepercent'` shows the price per unit, relative to the other candies in the dataset.\n",
    "- `'winpercent'` is calculated from the survey results; higher values indicate that the candy was more popular with survey respondents.\n",
    "\n",
    "Use the first five rows of the data to answer the questions below."
   ]
  },
  {
   "cell_type": "code",
   "execution_count": 6,
   "id": "5753ebfa",
   "metadata": {
    "execution": {
     "iopub.execute_input": "2024-01-05T12:13:41.885883Z",
     "iopub.status.busy": "2024-01-05T12:13:41.885475Z",
     "iopub.status.idle": "2024-01-05T12:13:41.894226Z",
     "shell.execute_reply": "2024-01-05T12:13:41.893391Z"
    },
    "papermill": {
     "duration": 0.024924,
     "end_time": "2024-01-05T12:13:41.896339",
     "exception": false,
     "start_time": "2024-01-05T12:13:41.871415",
     "status": "completed"
    },
    "tags": []
   },
   "outputs": [
    {
     "data": {
      "application/javascript": [
       "parent.postMessage({\"jupyterEvent\": \"custom.exercise_interaction\", \"data\": {\"outcomeType\": 1, \"valueTowardsCompletion\": 0.3333333333333333, \"interactionType\": 1, \"questionType\": 1, \"questionId\": \"2_ReviewData\", \"learnToolsVersion\": \"0.3.4\", \"failureMessage\": \"\", \"exceptionClass\": \"\", \"trace\": \"\"}}, \"*\")"
      ],
      "text/plain": [
       "<IPython.core.display.Javascript object>"
      ]
     },
     "metadata": {},
     "output_type": "display_data"
    },
    {
     "data": {
      "text/markdown": [
       "<span style=\"color:#33cc33\">Correct</span>"
      ],
      "text/plain": [
       "Correct"
      ]
     },
     "metadata": {},
     "output_type": "display_data"
    }
   ],
   "source": [
    "# Fill in the line below: Which candy was more popular with survey respondents:\n",
    "# '3 Musketeers' or 'Almond Joy'?  (Please enclose your answer in single quotes.)\n",
    "more_popular = '3 Musketeers'\n",
    "\n",
    "# Fill in the line below: Which candy has higher sugar content: 'Air Heads'\n",
    "# or 'Baby Ruth'? (Please enclose your answer in single quotes.)\n",
    "more_sugar = 'Air Heads'\n",
    "\n",
    "# Check your answers\n",
    "step_2.check()"
   ]
  },
  {
   "cell_type": "code",
   "execution_count": 7,
   "id": "f4032f23",
   "metadata": {
    "execution": {
     "iopub.execute_input": "2024-01-05T12:13:41.924395Z",
     "iopub.status.busy": "2024-01-05T12:13:41.923392Z",
     "iopub.status.idle": "2024-01-05T12:13:41.927944Z",
     "shell.execute_reply": "2024-01-05T12:13:41.927072Z"
    },
    "papermill": {
     "duration": 0.021078,
     "end_time": "2024-01-05T12:13:41.930357",
     "exception": false,
     "start_time": "2024-01-05T12:13:41.909279",
     "status": "completed"
    },
    "tags": []
   },
   "outputs": [],
   "source": [
    "# Lines below will give you a hint or solution code\n",
    "#step_2.hint()\n",
    "#step_2.solution()"
   ]
  },
  {
   "cell_type": "markdown",
   "id": "dd1d131e",
   "metadata": {
    "papermill": {
     "duration": 0.013425,
     "end_time": "2024-01-05T12:13:41.957221",
     "exception": false,
     "start_time": "2024-01-05T12:13:41.943796",
     "status": "completed"
    },
    "tags": []
   },
   "source": [
    "## Step 3: The role of sugar\n",
    "\n",
    "Do people tend to prefer candies with higher sugar content?  \n",
    "\n",
    "#### Part A\n",
    "\n",
    "Create a scatter plot that shows the relationship between `'sugarpercent'` (on the horizontal x-axis) and `'winpercent'` (on the vertical y-axis).  _Don't add a regression line just yet -- you'll do that in the next step!_"
   ]
  },
  {
   "cell_type": "code",
   "execution_count": 8,
   "id": "ca214c8f",
   "metadata": {
    "execution": {
     "iopub.execute_input": "2024-01-05T12:13:41.985900Z",
     "iopub.status.busy": "2024-01-05T12:13:41.985051Z",
     "iopub.status.idle": "2024-01-05T12:13:42.349136Z",
     "shell.execute_reply": "2024-01-05T12:13:42.347684Z"
    },
    "papermill": {
     "duration": 0.381212,
     "end_time": "2024-01-05T12:13:42.351927",
     "exception": false,
     "start_time": "2024-01-05T12:13:41.970715",
     "status": "completed"
    },
    "tags": []
   },
   "outputs": [
    {
     "data": {
      "application/javascript": [
       "parent.postMessage({\"jupyterEvent\": \"custom.exercise_interaction\", \"data\": {\"outcomeType\": 1, \"valueTowardsCompletion\": 0.3333333333333333, \"interactionType\": 1, \"questionType\": 2, \"questionId\": \"3.1_PlotBlueScatter\", \"learnToolsVersion\": \"0.3.4\", \"failureMessage\": \"\", \"exceptionClass\": \"\", \"trace\": \"\"}}, \"*\")"
      ],
      "text/plain": [
       "<IPython.core.display.Javascript object>"
      ]
     },
     "metadata": {},
     "output_type": "display_data"
    },
    {
     "data": {
      "text/markdown": [
       "<span style=\"color:#33cc33\">Correct</span>"
      ],
      "text/plain": [
       "Correct"
      ]
     },
     "metadata": {},
     "output_type": "display_data"
    },
    {
     "data": {
      "image/png": "[encoded data removed]",
      "text/plain": [
       "<Figure size 640x480 with 1 Axes>"
      ]
     },
     "metadata": {},
     "output_type": "display_data"
    }
   ],
   "source": [
    "# Scatter plot showing the relationship between 'sugarpercent' and 'winpercent'\n",
    "sns.scatterplot(x=candy_data['sugarpercent'], y=candy_data['winpercent']) # Your code here\n",
    "\n",
    "# Check your answer\n",
    "step_3.a.check()"
   ]
  },
  {
   "cell_type": "code",
   "execution_count": 9,
   "id": "870ce2b3",
   "metadata": {
    "execution": {
     "iopub.execute_input": "2024-01-05T12:13:42.382081Z",
     "iopub.status.busy": "2024-01-05T12:13:42.381632Z",
     "iopub.status.idle": "2024-01-05T12:13:42.386286Z",
     "shell.execute_reply": "2024-01-05T12:13:42.385129Z"
    },
    "papermill": {
     "duration": 0.022625,
     "end_time": "2024-01-05T12:13:42.388677",
     "exception": false,
     "start_time": "2024-01-05T12:13:42.366052",
     "status": "completed"
    },
    "tags": []
   },
   "outputs": [],
   "source": [
    "# Lines below will give you a hint or solution code\n",
    "#step_3.a.hint()\n",
    "#step_3.a.solution_plot()"
   ]
  },
  {
   "cell_type": "markdown",
   "id": "6eb99a54",
   "metadata": {
    "papermill": {
     "duration": 0.013429,
     "end_time": "2024-01-05T12:13:42.416293",
     "exception": false,
     "start_time": "2024-01-05T12:13:42.402864",
     "status": "completed"
    },
    "tags": []
   },
   "source": [
    "#### Part B\n",
    "\n",
    "Does the scatter plot show a **strong** correlation between the two variables?  If so, are candies with more sugar relatively more or less popular with the survey respondents?"
   ]
  },
  {
   "cell_type": "code",
   "execution_count": 10,
   "id": "e27e4736",
   "metadata": {
    "execution": {
     "iopub.execute_input": "2024-01-05T12:13:42.446149Z",
     "iopub.status.busy": "2024-01-05T12:13:42.445702Z",
     "iopub.status.idle": "2024-01-05T12:13:42.451407Z",
     "shell.execute_reply": "2024-01-05T12:13:42.450350Z"
    },
    "papermill": {
     "duration": 0.023473,
     "end_time": "2024-01-05T12:13:42.454014",
     "exception": false,
     "start_time": "2024-01-05T12:13:42.430541",
     "status": "completed"
    },
    "tags": []
   },
   "outputs": [],
   "source": [
    "#step_3.b.hint()"
   ]
  },
  {
   "cell_type": "code",
   "execution_count": 11,
   "id": "a74d3009",
   "metadata": {
    "execution": {
     "iopub.execute_input": "2024-01-05T12:13:42.485185Z",
     "iopub.status.busy": "2024-01-05T12:13:42.484512Z",
     "iopub.status.idle": "2024-01-05T12:13:42.493420Z",
     "shell.execute_reply": "2024-01-05T12:13:42.492542Z"
    },
    "papermill": {
     "duration": 0.027124,
     "end_time": "2024-01-05T12:13:42.495608",
     "exception": false,
     "start_time": "2024-01-05T12:13:42.468484",
     "status": "completed"
    },
    "tags": []
   },
   "outputs": [
    {
     "data": {
      "application/javascript": [
       "parent.postMessage({\"jupyterEvent\": \"custom.exercise_interaction\", \"data\": {\"interactionType\": 3, \"questionType\": 4, \"questionId\": \"3.2_ThinkBlueScatter\", \"learnToolsVersion\": \"0.3.4\", \"valueTowardsCompletion\": 0.0, \"failureMessage\": \"\", \"exceptionClass\": \"\", \"trace\": \"\", \"outcomeType\": 4}}, \"*\")"
      ],
      "text/plain": [
       "<IPython.core.display.Javascript object>"
      ]
     },
     "metadata": {},
     "output_type": "display_data"
    },
    {
     "data": {
      "text/markdown": [
       "<span style=\"color:#33cc99\">Solution:</span> The scatter plot does not show a strong correlation between the two variables. Since there is no clear relationship between the two variables, this tells us that sugar content does not play a strong role in candy popularity."
      ],
      "text/plain": [
       "Solution: The scatter plot does not show a strong correlation between the two variables. Since there is no clear relationship between the two variables, this tells us that sugar content does not play a strong role in candy popularity."
      ]
     },
     "metadata": {},
     "output_type": "display_data"
    }
   ],
   "source": [
    "# Check your answer (Run this code cell to receive credit!)\n",
    "step_3.b.solution()"
   ]
  },
  {
   "cell_type": "markdown",
   "id": "64061505",
   "metadata": {
    "papermill": {
     "duration": 0.013896,
     "end_time": "2024-01-05T12:13:42.524698",
     "exception": false,
     "start_time": "2024-01-05T12:13:42.510802",
     "status": "completed"
    },
    "tags": []
   },
   "source": [
    "## Step 4: Take a closer look\n",
    "\n",
    "#### Part A\n",
    "\n",
    "Create the same scatter plot you created in **Step 3**, but now with a regression line!"
   ]
  },
  {
   "cell_type": "code",
   "execution_count": 12,
   "id": "e20446fb",
   "metadata": {
    "execution": {
     "iopub.execute_input": "2024-01-05T12:13:42.555662Z",
     "iopub.status.busy": "2024-01-05T12:13:42.554840Z",
     "iopub.status.idle": "2024-01-05T12:13:43.010034Z",
     "shell.execute_reply": "2024-01-05T12:13:43.008863Z"
    },
    "papermill": {
     "duration": 0.47405,
     "end_time": "2024-01-05T12:13:43.013108",
     "exception": false,
     "start_time": "2024-01-05T12:13:42.539058",
     "status": "completed"
    },
    "tags": []
   },
   "outputs": [
    {
     "data": {
      "application/javascript": [
       "parent.postMessage({\"jupyterEvent\": \"custom.exercise_interaction\", \"data\": {\"outcomeType\": 1, \"valueTowardsCompletion\": 0.3333333333333333, \"interactionType\": 1, \"questionType\": 2, \"questionId\": \"4.1_PlotBlueReg\", \"learnToolsVersion\": \"0.3.4\", \"failureMessage\": \"\", \"exceptionClass\": \"\", \"trace\": \"\"}}, \"*\")"
      ],
      "text/plain": [
       "<IPython.core.display.Javascript object>"
      ]
     },
     "metadata": {},
     "output_type": "display_data"
    },
    {
     "data": {
      "text/markdown": [
       "<span style=\"color:#33cc33\">Correct</span>"
      ],
      "text/plain": [
       "Correct"
      ]
     },
     "metadata": {},
     "output_type": "display_data"
    },
    {
     "data": {
      "image/png": "[encoded data removed]",
      "text/plain": [
       "<Figure size 640x480 with 1 Axes>"
      ]
     },
     "metadata": {},
     "output_type": "display_data"
    }
   ],
   "source": [
    "# Scatter plot w/ regression line showing the relationship between 'sugarpercent' and 'winpercent'\n",
    "sns.regplot(x=candy_data['sugarpercent'], y=candy_data['winpercent'])\n",
    " # Your code here\n",
    "\n",
    "# Check your answer\n",
    "step_4.a.check()"
   ]
  },
  {
   "cell_type": "code",
   "execution_count": 13,
   "id": "72cce9bd",
   "metadata": {
    "execution": {
     "iopub.execute_input": "2024-01-05T12:13:43.046270Z",
     "iopub.status.busy": "2024-01-05T12:13:43.045139Z",
     "iopub.status.idle": "2024-01-05T12:13:43.051030Z",
     "shell.execute_reply": "2024-01-05T12:13:43.050141Z"
    },
    "papermill": {
     "duration": 0.025434,
     "end_time": "2024-01-05T12:13:43.053625",
     "exception": false,
     "start_time": "2024-01-05T12:13:43.028191",
     "status": "completed"
    },
    "tags": []
   },
   "outputs": [],
   "source": [
    "# Lines below will give you a hint or solution code\n",
    "#step_4.a.hint()\n",
    "#step_4.a.solution_plot()"
   ]
  },
  {
   "cell_type": "markdown",
   "id": "be291c49",
   "metadata": {
    "papermill": {
     "duration": 0.015428,
     "end_time": "2024-01-05T12:13:43.085660",
     "exception": false,
     "start_time": "2024-01-05T12:13:43.070232",
     "status": "completed"
    },
    "tags": []
   },
   "source": [
    "#### Part B\n",
    "\n",
    "According to the plot above, is there a **slight** correlation between `'winpercent'` and `'sugarpercent'`?  What does this tell you about the candy that people tend to prefer?"
   ]
  },
  {
   "cell_type": "code",
   "execution_count": 14,
   "id": "7ffd2d8c",
   "metadata": {
    "execution": {
     "iopub.execute_input": "2024-01-05T12:13:43.185251Z",
     "iopub.status.busy": "2024-01-05T12:13:43.184443Z",
     "iopub.status.idle": "2024-01-05T12:13:43.189415Z",
     "shell.execute_reply": "2024-01-05T12:13:43.188444Z"
    },
    "papermill": {
     "duration": 0.025249,
     "end_time": "2024-01-05T12:13:43.191837",
     "exception": false,
     "start_time": "2024-01-05T12:13:43.166588",
     "status": "completed"
    },
    "tags": []
   },
   "outputs": [],
   "source": [
    "#step_4.b.hint()"
   ]
  },
  {
   "cell_type": "code",
   "execution_count": 15,
   "id": "e1442d08",
   "metadata": {
    "execution": {
     "iopub.execute_input": "2024-01-05T12:13:43.224531Z",
     "iopub.status.busy": "2024-01-05T12:13:43.223854Z",
     "iopub.status.idle": "2024-01-05T12:13:43.232839Z",
     "shell.execute_reply": "2024-01-05T12:13:43.231744Z"
    },
    "papermill": {
     "duration": 0.028294,
     "end_time": "2024-01-05T12:13:43.235474",
     "exception": false,
     "start_time": "2024-01-05T12:13:43.207180",
     "status": "completed"
    },
    "tags": []
   },
   "outputs": [
    {
     "data": {
      "application/javascript": [
       "parent.postMessage({\"jupyterEvent\": \"custom.exercise_interaction\", \"data\": {\"interactionType\": 3, \"questionType\": 4, \"questionId\": \"4.2_ThinkBlueReg\", \"learnToolsVersion\": \"0.3.4\", \"valueTowardsCompletion\": 0.0, \"failureMessage\": \"\", \"exceptionClass\": \"\", \"trace\": \"\", \"outcomeType\": 4}}, \"*\")"
      ],
      "text/plain": [
       "<IPython.core.display.Javascript object>"
      ]
     },
     "metadata": {},
     "output_type": "display_data"
    },
    {
     "data": {
      "text/markdown": [
       "<span style=\"color:#33cc99\">Solution:</span> Since the regression line has a slightly positive slope, this tells us that there is a slightly positive correlation between `'winpercent'` and `'sugarpercent'`. Thus, people have a slight preference for candies containing relatively more sugar."
      ],
      "text/plain": [
       "Solution: Since the regression line has a slightly positive slope, this tells us that there is a slightly positive correlation between `'winpercent'` and `'sugarpercent'`. Thus, people have a slight preference for candies containing relatively more sugar."
      ]
     },
     "metadata": {},
     "output_type": "display_data"
    }
   ],
   "source": [
    "# Check your answer (Run this code cell to receive credit!)\n",
    "step_4.b.solution()"
   ]
  },
  {
   "cell_type": "markdown",
   "id": "739dc753",
   "metadata": {
    "papermill": {
     "duration": 0.015659,
     "end_time": "2024-01-05T12:13:43.267314",
     "exception": false,
     "start_time": "2024-01-05T12:13:43.251655",
     "status": "completed"
    },
    "tags": []
   },
   "source": [
    "## Step 5: Chocolate!\n",
    "\n",
    "In the code cell below, create a scatter plot to show the relationship between `'pricepercent'` (on the horizontal x-axis) and `'winpercent'` (on the vertical y-axis). Use the `'chocolate'` column to color-code the points.  _Don't add any regression lines just yet -- you'll do that in the next step!_"
   ]
  },
  {
   "cell_type": "code",
   "execution_count": 16,
   "id": "c25c33b4",
   "metadata": {
    "execution": {
     "iopub.execute_input": "2024-01-05T12:13:43.301107Z",
     "iopub.status.busy": "2024-01-05T12:13:43.300646Z",
     "iopub.status.idle": "2024-01-05T12:13:43.721640Z",
     "shell.execute_reply": "2024-01-05T12:13:43.718230Z"
    },
    "papermill": {
     "duration": 0.441872,
     "end_time": "2024-01-05T12:13:43.725234",
     "exception": false,
     "start_time": "2024-01-05T12:13:43.283362",
     "status": "completed"
    },
    "tags": []
   },
   "outputs": [
    {
     "data": {
      "application/javascript": [
       "parent.postMessage({\"jupyterEvent\": \"custom.exercise_interaction\", \"data\": {\"outcomeType\": 1, \"valueTowardsCompletion\": 0.3333333333333333, \"interactionType\": 1, \"questionType\": 2, \"questionId\": \"5_ColorScatter\", \"learnToolsVersion\": \"0.3.4\", \"failureMessage\": \"\", \"exceptionClass\": \"\", \"trace\": \"\"}}, \"*\")"
      ],
      "text/plain": [
       "<IPython.core.display.Javascript object>"
      ]
     },
     "metadata": {},
     "output_type": "display_data"
    },
    {
     "data": {
      "text/markdown": [
       "<span style=\"color:#33cc33\">Correct</span>"
      ],
      "text/plain": [
       "Correct"
      ]
     },
     "metadata": {},
     "output_type": "display_data"
    },
    {
     "data": {
      "image/png": "[encoded data removed]",
      "text/plain": [
       "<Figure size 640x480 with 1 Axes>"
      ]
     },
     "metadata": {},
     "output_type": "display_data"
    }
   ],
   "source": [
    "# Scatter plot showing the relationship between 'pricepercent', 'winpercent', and 'chocolate'\n",
    "sns.scatterplot(x=candy_data['pricepercent'], y=candy_data['winpercent'], hue=candy_data['chocolate'])\n",
    " # Your code here\n",
    "\n",
    "# Check your answer\n",
    "step_5.check()"
   ]
  },
  {
   "cell_type": "code",
   "execution_count": 17,
   "id": "b858ad6d",
   "metadata": {
    "execution": {
     "iopub.execute_input": "2024-01-05T12:13:43.777375Z",
     "iopub.status.busy": "2024-01-05T12:13:43.776208Z",
     "iopub.status.idle": "2024-01-05T12:13:43.782154Z",
     "shell.execute_reply": "2024-01-05T12:13:43.780489Z"
    },
    "papermill": {
     "duration": 0.034744,
     "end_time": "2024-01-05T12:13:43.785377",
     "exception": false,
     "start_time": "2024-01-05T12:13:43.750633",
     "status": "completed"
    },
    "tags": []
   },
   "outputs": [],
   "source": [
    "# Lines below will give you a hint or solution code\n",
    "#step_5.hint()\n",
    "#step_5.solution_plot()"
   ]
  },
  {
   "cell_type": "markdown",
   "id": "5d578107",
   "metadata": {
    "papermill": {
     "duration": 0.01762,
     "end_time": "2024-01-05T12:13:43.822100",
     "exception": false,
     "start_time": "2024-01-05T12:13:43.804480",
     "status": "completed"
    },
    "tags": []
   },
   "source": [
    "Can you see any interesting patterns in the scatter plot?  We'll investigate this plot further  by adding regression lines in the next step!\n",
    "\n",
    "## Step 6: Investigate chocolate\n",
    "\n",
    "#### Part A\n",
    "\n",
    "Create the same scatter plot you created in **Step 5**, but now with two regression lines, corresponding to (1) chocolate candies and (2) candies without chocolate."
   ]
  },
  {
   "cell_type": "code",
   "execution_count": 18,
   "id": "076e5524",
   "metadata": {
    "execution": {
     "iopub.execute_input": "2024-01-05T12:13:43.859952Z",
     "iopub.status.busy": "2024-01-05T12:13:43.859029Z",
     "iopub.status.idle": "2024-01-05T12:13:44.852205Z",
     "shell.execute_reply": "2024-01-05T12:13:44.851027Z"
    },
    "papermill": {
     "duration": 1.015525,
     "end_time": "2024-01-05T12:13:44.855589",
     "exception": false,
     "start_time": "2024-01-05T12:13:43.840064",
     "status": "completed"
    },
    "tags": []
   },
   "outputs": [
    {
     "data": {
      "application/javascript": [
       "parent.postMessage({\"jupyterEvent\": \"custom.exercise_interaction\", \"data\": {\"outcomeType\": 1, \"valueTowardsCompletion\": 0.3333333333333333, \"interactionType\": 1, \"questionType\": 2, \"questionId\": \"6.1_PlotColorReg\", \"learnToolsVersion\": \"0.3.4\", \"failureMessage\": \"\", \"exceptionClass\": \"\", \"trace\": \"\"}}, \"*\")"
      ],
      "text/plain": [
       "<IPython.core.display.Javascript object>"
      ]
     },
     "metadata": {},
     "output_type": "display_data"
    },
    {
     "data": {
      "text/markdown": [
       "<span style=\"color:#33cc33\">Correct</span>"
      ],
      "text/plain": [
       "Correct"
      ]
     },
     "metadata": {},
     "output_type": "display_data"
    },
    {
     "data": {
      "image/png": "[encoded data removed]",
      "text/plain": [
       "<Figure size 578.611x500 with 1 Axes>"
      ]
     },
     "metadata": {},
     "output_type": "display_data"
    }
   ],
   "source": [
    "# Color-coded scatter plot w/ regression lines\n",
    "sns.lmplot(x=\"pricepercent\", y=\"winpercent\", hue=\"chocolate\", data=candy_data)\n",
    " # Your code here\n",
    "\n",
    "# Check your answer\n",
    "step_6.a.check()"
   ]
  },
  {
   "cell_type": "code",
   "execution_count": 19,
   "id": "d7385f7b",
   "metadata": {
    "execution": {
     "iopub.execute_input": "2024-01-05T12:13:44.900359Z",
     "iopub.status.busy": "2024-01-05T12:13:44.899988Z",
     "iopub.status.idle": "2024-01-05T12:13:44.904646Z",
     "shell.execute_reply": "2024-01-05T12:13:44.903486Z"
    },
    "papermill": {
     "duration": 0.027612,
     "end_time": "2024-01-05T12:13:44.907145",
     "exception": false,
     "start_time": "2024-01-05T12:13:44.879533",
     "status": "completed"
    },
    "tags": []
   },
   "outputs": [],
   "source": [
    "# Lines below will give you a hint or solution code\n",
    "#step_6.a.hint()\n",
    "#step_6.a.solution_plot()"
   ]
  },
  {
   "cell_type": "markdown",
   "id": "e1984471",
   "metadata": {
    "papermill": {
     "duration": 0.018113,
     "end_time": "2024-01-05T12:13:44.942869",
     "exception": false,
     "start_time": "2024-01-05T12:13:44.924756",
     "status": "completed"
    },
    "tags": []
   },
   "source": [
    "#### Part B\n",
    "\n",
    "Using the regression lines, what conclusions can you draw about the effects of chocolate and price on candy popularity?"
   ]
  },
  {
   "cell_type": "code",
   "execution_count": 20,
   "id": "1466b0cd",
   "metadata": {
    "execution": {
     "iopub.execute_input": "2024-01-05T12:13:44.980758Z",
     "iopub.status.busy": "2024-01-05T12:13:44.980101Z",
     "iopub.status.idle": "2024-01-05T12:13:44.985149Z",
     "shell.execute_reply": "2024-01-05T12:13:44.984072Z"
    },
    "papermill": {
     "duration": 0.026696,
     "end_time": "2024-01-05T12:13:44.987705",
     "exception": false,
     "start_time": "2024-01-05T12:13:44.961009",
     "status": "completed"
    },
    "tags": []
   },
   "outputs": [],
   "source": [
    "#step_6.b.hint()"
   ]
  },
  {
   "cell_type": "code",
   "execution_count": 21,
   "id": "26f0ca62",
   "metadata": {
    "execution": {
     "iopub.execute_input": "2024-01-05T12:13:45.024741Z",
     "iopub.status.busy": "2024-01-05T12:13:45.024296Z",
     "iopub.status.idle": "2024-01-05T12:13:45.033865Z",
     "shell.execute_reply": "2024-01-05T12:13:45.032858Z"
    },
    "papermill": {
     "duration": 0.030749,
     "end_time": "2024-01-05T12:13:45.036231",
     "exception": false,
     "start_time": "2024-01-05T12:13:45.005482",
     "status": "completed"
    },
    "tags": []
   },
   "outputs": [
    {
     "data": {
      "application/javascript": [
       "parent.postMessage({\"jupyterEvent\": \"custom.exercise_interaction\", \"data\": {\"interactionType\": 3, \"questionType\": 4, \"questionId\": \"6.2_ThinkColorReg\", \"learnToolsVersion\": \"0.3.4\", \"valueTowardsCompletion\": 0.0, \"failureMessage\": \"\", \"exceptionClass\": \"\", \"trace\": \"\", \"outcomeType\": 4}}, \"*\")"
      ],
      "text/plain": [
       "<IPython.core.display.Javascript object>"
      ]
     },
     "metadata": {},
     "output_type": "display_data"
    },
    {
     "data": {
      "text/markdown": [
       "<span style=\"color:#33cc99\">Solution:</span> We'll begin with the regression line for chocolate candies. Since this line has a slightly positive slope, we can say that more expensive chocolate candies tend to be more popular (than relatively cheaper chocolate candies).  Likewise, since the regression line for candies without chocolate has a negative slope, we can say that if candies don't contain chocolate, they tend to be more popular when they are cheaper.  One important note, however, is that the dataset is quite small -- so we shouldn't invest too much trust in these patterns!  To inspire more confidence in the results, we should add more candies to the dataset."
      ],
      "text/plain": [
       "Solution: We'll begin with the regression line for chocolate candies. Since this line has a slightly positive slope, we can say that more expensive chocolate candies tend to be more popular (than relatively cheaper chocolate candies).  Likewise, since the regression line for candies without chocolate has a negative slope, we can say that if candies don't contain chocolate, they tend to be more popular when they are cheaper.  One important note, however, is that the dataset is quite small -- so we shouldn't invest too much trust in these patterns!  To inspire more confidence in the results, we should add more candies to the dataset."
      ]
     },
     "metadata": {},
     "output_type": "display_data"
    }
   ],
   "source": [
    "# Check your answer (Run this code cell to receive credit!)\n",
    "step_6.b.solution()"
   ]
  },
  {
   "cell_type": "markdown",
   "id": "a758406b",
   "metadata": {
    "papermill": {
     "duration": 0.020035,
     "end_time": "2024-01-05T12:13:45.075584",
     "exception": false,
     "start_time": "2024-01-05T12:13:45.055549",
     "status": "completed"
    },
    "tags": []
   },
   "source": [
    "## Step 7: Everybody loves chocolate.\n",
    "\n",
    "#### Part A\n",
    "\n",
    "Create a categorical scatter plot to highlight the relationship between `'chocolate'` and `'winpercent'`.  Put `'chocolate'` on the (horizontal) x-axis, and `'winpercent'` on the (vertical) y-axis."
   ]
  },
  {
   "cell_type": "code",
   "execution_count": 22,
   "id": "aa46f970",
   "metadata": {
    "execution": {
     "iopub.execute_input": "2024-01-05T12:13:45.115044Z",
     "iopub.status.busy": "2024-01-05T12:13:45.114272Z",
     "iopub.status.idle": "2024-01-05T12:13:45.679311Z",
     "shell.execute_reply": "2024-01-05T12:13:45.677684Z"
    },
    "papermill": {
     "duration": 0.589435,
     "end_time": "2024-01-05T12:13:45.683669",
     "exception": false,
     "start_time": "2024-01-05T12:13:45.094234",
     "status": "completed"
    },
    "tags": []
   },
   "outputs": [
    {
     "data": {
      "application/javascript": [
       "parent.postMessage({\"jupyterEvent\": \"custom.exercise_interaction\", \"data\": {\"outcomeType\": 1, \"valueTowardsCompletion\": 0.3333333333333333, \"interactionType\": 1, \"questionType\": 2, \"questionId\": \"7.1_PlotSwarm\", \"learnToolsVersion\": \"0.3.4\", \"failureMessage\": \"\", \"exceptionClass\": \"\", \"trace\": \"\"}}, \"*\")"
      ],
      "text/plain": [
       "<IPython.core.display.Javascript object>"
      ]
     },
     "metadata": {},
     "output_type": "display_data"
    },
    {
     "data": {
      "text/markdown": [
       "<span style=\"color:#33cc33\">Correct</span>"
      ],
      "text/plain": [
       "Correct"
      ]
     },
     "metadata": {},
     "output_type": "display_data"
    },
    {
     "data": {
      "image/png": "[encoded data removed]",
      "text/plain": [
       "<Figure size 640x480 with 1 Axes>"
      ]
     },
     "metadata": {},
     "output_type": "display_data"
    }
   ],
   "source": [
    "# Scatter plot showing the relationship between 'chocolate' and 'winpercent'\n",
    "sns.swarmplot(x=candy_data['chocolate'], y=candy_data['winpercent']) # Your code here\n",
    "\n",
    "# Check your answer\n",
    "step_7.a.check()"
   ]
  },
  {
   "cell_type": "code",
   "execution_count": 23,
   "id": "13b524fb",
   "metadata": {
    "execution": {
     "iopub.execute_input": "2024-01-05T12:13:45.733327Z",
     "iopub.status.busy": "2024-01-05T12:13:45.732571Z",
     "iopub.status.idle": "2024-01-05T12:13:45.736631Z",
     "shell.execute_reply": "2024-01-05T12:13:45.735781Z"
    },
    "papermill": {
     "duration": 0.027358,
     "end_time": "2024-01-05T12:13:45.739130",
     "exception": false,
     "start_time": "2024-01-05T12:13:45.711772",
     "status": "completed"
    },
    "tags": []
   },
   "outputs": [],
   "source": [
    "# Lines below will give you a hint or solution code\n",
    "#step_7.a.hint()\n",
    "#step_7.a.solution_plot()"
   ]
  },
  {
   "cell_type": "markdown",
   "id": "ad1db1f4",
   "metadata": {
    "papermill": {
     "duration": 0.018513,
     "end_time": "2024-01-05T12:13:45.776271",
     "exception": false,
     "start_time": "2024-01-05T12:13:45.757758",
     "status": "completed"
    },
    "tags": []
   },
   "source": [
    "#### Part B\n",
    "\n",
    "You decide to dedicate a section of your report to the fact that chocolate candies tend to be more popular than candies without chocolate.  Which plot is more appropriate to tell this story: the plot from **Step 6**, or the plot from **Step 7**?"
   ]
  },
  {
   "cell_type": "code",
   "execution_count": 24,
   "id": "ed6786b3",
   "metadata": {
    "execution": {
     "iopub.execute_input": "2024-01-05T12:13:45.815835Z",
     "iopub.status.busy": "2024-01-05T12:13:45.814951Z",
     "iopub.status.idle": "2024-01-05T12:13:45.820144Z",
     "shell.execute_reply": "2024-01-05T12:13:45.818989Z"
    },
    "papermill": {
     "duration": 0.027832,
     "end_time": "2024-01-05T12:13:45.822742",
     "exception": false,
     "start_time": "2024-01-05T12:13:45.794910",
     "status": "completed"
    },
    "tags": []
   },
   "outputs": [],
   "source": [
    "#step_7.b.hint()"
   ]
  },
  {
   "cell_type": "code",
   "execution_count": 25,
   "id": "8cf79f47",
   "metadata": {
    "execution": {
     "iopub.execute_input": "2024-01-05T12:13:45.863449Z",
     "iopub.status.busy": "2024-01-05T12:13:45.862320Z",
     "iopub.status.idle": "2024-01-05T12:13:45.872456Z",
     "shell.execute_reply": "2024-01-05T12:13:45.871115Z"
    },
    "papermill": {
     "duration": 0.032923,
     "end_time": "2024-01-05T12:13:45.874868",
     "exception": false,
     "start_time": "2024-01-05T12:13:45.841945",
     "status": "completed"
    },
    "tags": []
   },
   "outputs": [
    {
     "data": {
      "application/javascript": [
       "parent.postMessage({\"jupyterEvent\": \"custom.exercise_interaction\", \"data\": {\"interactionType\": 3, \"questionType\": 4, \"questionId\": \"7.2_ThinkSwarm\", \"learnToolsVersion\": \"0.3.4\", \"valueTowardsCompletion\": 0.0, \"failureMessage\": \"\", \"exceptionClass\": \"\", \"trace\": \"\", \"outcomeType\": 4}}, \"*\")"
      ],
      "text/plain": [
       "<IPython.core.display.Javascript object>"
      ]
     },
     "metadata": {},
     "output_type": "display_data"
    },
    {
     "data": {
      "text/markdown": [
       "<span style=\"color:#33cc99\">Solution:</span> In this case, the categorical scatter plot from **Step 7** is the more appropriate plot. While both plots tell the desired story, the plot from **Step 6** conveys far more information that could distract from the main point."
      ],
      "text/plain": [
       "Solution: In this case, the categorical scatter plot from **Step 7** is the more appropriate plot. While both plots tell the desired story, the plot from **Step 6** conveys far more information that could distract from the main point."
      ]
     },
     "metadata": {},
     "output_type": "display_data"
    }
   ],
   "source": [
    "# Check your answer (Run this code cell to receive credit!)\n",
    "step_7.b.solution()"
   ]
  },
  {
   "cell_type": "markdown",
   "id": "00ba91ad",
   "metadata": {
    "papermill": {
     "duration": 0.018776,
     "end_time": "2024-01-05T12:13:45.913066",
     "exception": false,
     "start_time": "2024-01-05T12:13:45.894290",
     "status": "completed"
    },
    "tags": []
   },
   "source": [
    "## Keep going\n",
    "\n",
    "Explore **[histograms and density plots](https://www.kaggle.com/alexisbcook/distributions)**."
   ]
  },
  {
   "cell_type": "markdown",
   "id": "cf0e4e02",
   "metadata": {
    "papermill": {
     "duration": 0.018761,
     "end_time": "2024-01-05T12:13:45.951187",
     "exception": false,
     "start_time": "2024-01-05T12:13:45.932426",
     "status": "completed"
    },
    "tags": []
   },
   "source": [
    "---\n",
    "\n",
    "\n",
    "\n",
    "\n",
    "*Have questions or comments? Visit the [course discussion forum](https://www.kaggle.com/learn/data-visualization/discussion) to chat with other learners.*"
   ]
  }
 ],
 "metadata": {
  "kaggle": {
   "accelerator": "none",
   "dataSources": [
    {
     "datasetId": 116573,
     "sourceId": 3551030,
     "sourceType": "datasetVersion"
    }
   ],
   "isGpuEnabled": false,
   "isInternetEnabled": false,
   "language": "python",
   "sourceType": "notebook"
  },
  "kernelspec": {
   "display_name": "Python 3",
   "language": "python",
   "name": "python3"
  },
  "language_info": {
   "codemirror_mode": {
    "name": "ipython",
    "version": 3
   },
   "file_extension": ".py",
   "mimetype": "text/x-python",
   "name": "python",
   "nbconvert_exporter": "python",
   "pygments_lexer": "ipython3",
   "version": "3.10.12"
  },
  "papermill": {
   "default_parameters": {},
   "duration": 11.096981,
   "end_time": "2024-01-05T12:13:46.692325",
   "environment_variables": {},
   "exception": null,
   "input_path": "__notebook__.ipynb",
   "output_path": "__notebook__.ipynb",
   "parameters": {},
   "start_time": "2024-01-05T12:13:35.595344",
   "version": "2.4.0"
  }
 },
 "nbformat": 4,
 "nbformat_minor": 5
}
