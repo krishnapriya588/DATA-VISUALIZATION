{
 "cells": [
  {
   "cell_type": "markdown",
   "id": "6bbd7c70",
   "metadata": {
    "papermill": {
     "duration": 0.009661,
     "end_time": "2024-01-05T10:36:35.523691",
     "exception": false,
     "start_time": "2024-01-05T10:36:35.514030",
     "status": "completed"
    },
    "tags": []
   },
   "source": [
    "**This notebook is an exercise in the [Data Visualization](https://www.kaggle.com/learn/data-visualization) course.  You can reference the tutorial at [this link](https://www.kaggle.com/alexisbcook/scatter-plots).**\n",
    "\n",
    "---\n"
   ]
  },
  {
   "cell_type": "markdown",
   "id": "91b1980b",
   "metadata": {
    "papermill": {
     "duration": 0.007853,
     "end_time": "2024-01-05T10:36:35.540751",
     "exception": false,
     "start_time": "2024-01-05T10:36:35.532898",
     "status": "completed"
    },
    "tags": []
   },
   "source": [
    "In this exercise, you will use your new knowledge to propose a solution to a real-world scenario.  To succeed, you will need to import data into Python, answer questions using the data, and generate **scatter plots** to understand patterns in the data.\n",
    "\n",
    "## Scenario\n",
    "\n",
    "You work for a major candy producer, and your goal is to write a report that your company can use to guide the design of its next product.  Soon after starting your research, you stumble across this [very interesting dataset](https://fivethirtyeight.com/features/the-ultimate-halloween-candy-power-ranking/) containing results from a fun survey to crowdsource favorite candies.\n",
    "\n",
    "## Setup\n",
    "\n",
    "Run the next cell to import and configure the Python libraries that you need to complete the exercise."
   ]
  },
  {
   "cell_type": "code",
   "execution_count": 1,
   "id": "bca7cfc5",
   "metadata": {
    "execution": {
     "iopub.execute_input": "2024-01-05T10:36:35.560121Z",
     "iopub.status.busy": "2024-01-05T10:36:35.559584Z",
     "iopub.status.idle": "2024-01-05T10:36:37.458310Z",
     "shell.execute_reply": "2024-01-05T10:36:37.456612Z"
    },
    "papermill": {
     "duration": 1.9133,
     "end_time": "2024-01-05T10:36:37.462227",
     "exception": false,
     "start_time": "2024-01-05T10:36:35.548927",
     "status": "completed"
    },
    "tags": []
   },
   "outputs": [
    {
     "name": "stdout",
     "output_type": "stream",
     "text": [
      "Setup Complete\n"
     ]
    }
   ],
   "source": [
    "import pandas as pd\n",
    "pd.plotting.register_matplotlib_converters()\n",
    "import matplotlib.pyplot as plt\n",
    "%matplotlib inline\n",
    "import seaborn as sns\n",
    "print(\"Setup Complete\")"
   ]
  },
  {
   "cell_type": "markdown",
   "id": "c863ed51",
   "metadata": {
    "papermill": {
     "duration": 0.00792,
     "end_time": "2024-01-05T10:36:37.479683",
     "exception": false,
     "start_time": "2024-01-05T10:36:37.471763",
     "status": "completed"
    },
    "tags": []
   },
   "source": [
    "The questions below will give you feedback on your work. Run the following cell to set up our feedback system."
   ]
  },
  {
   "cell_type": "code",
   "execution_count": 2,
   "id": "deac63fd",
   "metadata": {
    "execution": {
     "iopub.execute_input": "2024-01-05T10:36:37.500054Z",
     "iopub.status.busy": "2024-01-05T10:36:37.499100Z",
     "iopub.status.idle": "2024-01-05T10:36:37.575740Z",
     "shell.execute_reply": "2024-01-05T10:36:37.574940Z"
    },
    "papermill": {
     "duration": 0.088998,
     "end_time": "2024-01-05T10:36:37.577782",
     "exception": false,
     "start_time": "2024-01-05T10:36:37.488784",
     "status": "completed"
    },
    "tags": []
   },
   "outputs": [
    {
     "name": "stdout",
     "output_type": "stream",
     "text": [
      "Setup Complete\n"
     ]
    }
   ],
   "source": [
    "# Set up code checking\n",
    "import os\n",
    "if not os.path.exists(\"../input/candy.csv\"):\n",
    "    os.symlink(\"../input/data-for-datavis/candy.csv\", \"../input/candy.csv\") \n",
    "from learntools.core import binder\n",
    "binder.bind(globals())\n",
    "from learntools.data_viz_to_coder.ex4 import *\n",
    "print(\"Setup Complete\")"
   ]
  },
  {
   "cell_type": "markdown",
   "id": "a9d7bfae",
   "metadata": {
    "papermill": {
     "duration": 0.008517,
     "end_time": "2024-01-05T10:36:37.595509",
     "exception": false,
     "start_time": "2024-01-05T10:36:37.586992",
     "status": "completed"
    },
    "tags": []
   },
   "source": [
    "## Step 1: Load the Data\n",
    "\n",
    "Read the candy data file into `candy_data`.  Use the `\"id\"` column to label the rows."
   ]
  },
  {
   "cell_type": "code",
   "execution_count": 3,
   "id": "5af424bc",
   "metadata": {
    "execution": {
     "iopub.execute_input": "2024-01-05T10:36:37.615052Z",
     "iopub.status.busy": "2024-01-05T10:36:37.614304Z",
     "iopub.status.idle": "2024-01-05T10:36:37.631644Z",
     "shell.execute_reply": "2024-01-05T10:36:37.630505Z"
    },
    "papermill": {
     "duration": 0.029693,
     "end_time": "2024-01-05T10:36:37.633913",
     "exception": false,
     "start_time": "2024-01-05T10:36:37.604220",
     "status": "completed"
    },
    "tags": []
   },
   "outputs": [
    {
     "data": {
      "application/javascript": [
       "parent.postMessage({\"jupyterEvent\": \"custom.exercise_interaction\", \"data\": {\"outcomeType\": 1, \"valueTowardsCompletion\": 0.3333333333333333, \"interactionType\": 1, \"questionType\": 1, \"questionId\": \"1_LoadData\", \"learnToolsVersion\": \"0.3.4\", \"failureMessage\": \"\", \"exceptionClass\": \"\", \"trace\": \"\"}}, \"*\")"
      ],
      "text/plain": [
       "<IPython.core.display.Javascript object>"
      ]
     },
     "metadata": {},
     "output_type": "display_data"
    },
    {
     "data": {
      "text/markdown": [
       "<span style=\"color:#33cc33\">Correct</span>"
      ],
      "text/plain": [
       "Correct"
      ]
     },
     "metadata": {},
     "output_type": "display_data"
    }
   ],
   "source": [
    "# Path of the file to read\n",
    "candy_filepath = \"../input/candy.csv\"\n",
    "\n",
    "# Fill in the line below to read the file into a variable candy_data\n",
    "candy_data = pd.read_csv(candy_filepath, index_col=\"id\")\n",
    "\n",
    "# Run the line below with no changes to check that you've loaded the data correctly\n",
    "step_1.check()"
   ]
  },
  {
   "cell_type": "code",
   "execution_count": 4,
   "id": "3539dcd6",
   "metadata": {
    "execution": {
     "iopub.execute_input": "2024-01-05T10:36:37.653530Z",
     "iopub.status.busy": "2024-01-05T10:36:37.652418Z",
     "iopub.status.idle": "2024-01-05T10:36:37.657188Z",
     "shell.execute_reply": "2024-01-05T10:36:37.656320Z"
    },
    "papermill": {
     "duration": 0.01655,
     "end_time": "2024-01-05T10:36:37.659120",
     "exception": false,
     "start_time": "2024-01-05T10:36:37.642570",
     "status": "completed"
    },
    "tags": []
   },
   "outputs": [],
   "source": [
    "# Lines below will give you a hint or solution code\n",
    "#step_1.hint()\n",
    "#step_1.solution()"
   ]
  },
  {
   "cell_type": "markdown",
   "id": "4f89471d",
   "metadata": {
    "papermill": {
     "duration": 0.008523,
     "end_time": "2024-01-05T10:36:37.676853",
     "exception": false,
     "start_time": "2024-01-05T10:36:37.668330",
     "status": "completed"
    },
    "tags": []
   },
   "source": [
    "## Step 2: Review the data\n",
    "\n",
    "Use a Python command to print the first five rows of the data."
   ]
  },
  {
   "cell_type": "code",
   "execution_count": 5,
   "id": "346f1e2d",
   "metadata": {
    "execution": {
     "iopub.execute_input": "2024-01-05T10:36:37.698732Z",
     "iopub.status.busy": "2024-01-05T10:36:37.698154Z",
     "iopub.status.idle": "2024-01-05T10:36:37.719012Z",
     "shell.execute_reply": "2024-01-05T10:36:37.717722Z"
    },
    "papermill": {
     "duration": 0.033775,
     "end_time": "2024-01-05T10:36:37.721548",
     "exception": false,
     "start_time": "2024-01-05T10:36:37.687773",
     "status": "completed"
    },
    "tags": []
   },
   "outputs": [
    {
     "data": {
      "text/html": [
       "<div>\n",
       "<style scoped>\n",
       "    .dataframe tbody tr th:only-of-type {\n",
       "        vertical-align: middle;\n",
       "    }\n",
       "\n",
       "    .dataframe tbody tr th {\n",
       "        vertical-align: top;\n",
       "    }\n",
       "\n",
       "    .dataframe thead th {\n",
       "        text-align: right;\n",
       "    }\n",
       "</style>\n",
       "<table border=\"1\" class=\"dataframe\">\n",
       "  <thead>\n",
       "    <tr style=\"text-align: right;\">\n",
       "      <th></th>\n",
       "      <th>competitorname</th>\n",
       "      <th>chocolate</th>\n",
       "      <th>fruity</th>\n",
       "      <th>caramel</th>\n",
       "      <th>peanutyalmondy</th>\n",
       "      <th>nougat</th>\n",
       "      <th>crispedricewafer</th>\n",
       "      <th>hard</th>\n",
       "      <th>bar</th>\n",
       "      <th>pluribus</th>\n",
       "      <th>sugarpercent</th>\n",
       "      <th>pricepercent</th>\n",
       "      <th>winpercent</th>\n",
       "    </tr>\n",
       "    <tr>\n",
       "      <th>id</th>\n",
       "      <th></th>\n",
       "      <th></th>\n",
       "      <th></th>\n",
       "      <th></th>\n",
       "      <th></th>\n",
       "      <th></th>\n",
       "      <th></th>\n",
       "      <th></th>\n",
       "      <th></th>\n",
       "      <th></th>\n",
       "      <th></th>\n",
       "      <th></th>\n",
       "      <th></th>\n",
       "    </tr>\n",
       "  </thead>\n",
       "  <tbody>\n",
       "    <tr>\n",
       "      <th>0</th>\n",
       "      <td>100 Grand</td>\n",
       "      <td>Yes</td>\n",
       "      <td>No</td>\n",
       "      <td>Yes</td>\n",
       "      <td>No</td>\n",
       "      <td>No</td>\n",
       "      <td>Yes</td>\n",
       "      <td>No</td>\n",
       "      <td>Yes</td>\n",
       "      <td>No</td>\n",
       "      <td>0.732</td>\n",
       "      <td>0.860</td>\n",
       "      <td>66.971725</td>\n",
       "    </tr>\n",
       "    <tr>\n",
       "      <th>1</th>\n",
       "      <td>3 Musketeers</td>\n",
       "      <td>Yes</td>\n",
       "      <td>No</td>\n",
       "      <td>No</td>\n",
       "      <td>No</td>\n",
       "      <td>Yes</td>\n",
       "      <td>No</td>\n",
       "      <td>No</td>\n",
       "      <td>Yes</td>\n",
       "      <td>No</td>\n",
       "      <td>0.604</td>\n",
       "      <td>0.511</td>\n",
       "      <td>67.602936</td>\n",
       "    </tr>\n",
       "    <tr>\n",
       "      <th>2</th>\n",
       "      <td>Air Heads</td>\n",
       "      <td>No</td>\n",
       "      <td>Yes</td>\n",
       "      <td>No</td>\n",
       "      <td>No</td>\n",
       "      <td>No</td>\n",
       "      <td>No</td>\n",
       "      <td>No</td>\n",
       "      <td>No</td>\n",
       "      <td>No</td>\n",
       "      <td>0.906</td>\n",
       "      <td>0.511</td>\n",
       "      <td>52.341465</td>\n",
       "    </tr>\n",
       "    <tr>\n",
       "      <th>3</th>\n",
       "      <td>Almond Joy</td>\n",
       "      <td>Yes</td>\n",
       "      <td>No</td>\n",
       "      <td>No</td>\n",
       "      <td>Yes</td>\n",
       "      <td>No</td>\n",
       "      <td>No</td>\n",
       "      <td>No</td>\n",
       "      <td>Yes</td>\n",
       "      <td>No</td>\n",
       "      <td>0.465</td>\n",
       "      <td>0.767</td>\n",
       "      <td>50.347546</td>\n",
       "    </tr>\n",
       "    <tr>\n",
       "      <th>4</th>\n",
       "      <td>Baby Ruth</td>\n",
       "      <td>Yes</td>\n",
       "      <td>No</td>\n",
       "      <td>Yes</td>\n",
       "      <td>Yes</td>\n",
       "      <td>Yes</td>\n",
       "      <td>No</td>\n",
       "      <td>No</td>\n",
       "      <td>Yes</td>\n",
       "      <td>No</td>\n",
       "      <td>0.604</td>\n",
       "      <td>0.767</td>\n",
       "      <td>56.914547</td>\n",
       "    </tr>\n",
       "  </tbody>\n",
       "</table>\n",
       "</div>"
      ],
      "text/plain": [
       "   competitorname chocolate fruity caramel peanutyalmondy nougat  \\\n",
       "id                                                                 \n",
       "0       100 Grand       Yes     No     Yes             No     No   \n",
       "1    3 Musketeers       Yes     No      No             No    Yes   \n",
       "2       Air Heads        No    Yes      No             No     No   \n",
       "3      Almond Joy       Yes     No      No            Yes     No   \n",
       "4       Baby Ruth       Yes     No     Yes            Yes    Yes   \n",
       "\n",
       "   crispedricewafer hard  bar pluribus  sugarpercent  pricepercent  winpercent  \n",
       "id                                                                              \n",
       "0               Yes   No  Yes       No         0.732         0.860   66.971725  \n",
       "1                No   No  Yes       No         0.604         0.511   67.602936  \n",
       "2                No   No   No       No         0.906         0.511   52.341465  \n",
       "3                No   No  Yes       No         0.465         0.767   50.347546  \n",
       "4                No   No  Yes       No         0.604         0.767   56.914547  "
      ]
     },
     "execution_count": 5,
     "metadata": {},
     "output_type": "execute_result"
    }
   ],
   "source": [
    "# Print the first five rows of the data\n",
    "candy_data.head()# Your code here"
   ]
  },
  {
   "cell_type": "markdown",
   "id": "63c0ee60",
   "metadata": {
    "papermill": {
     "duration": 0.008515,
     "end_time": "2024-01-05T10:36:37.739248",
     "exception": false,
     "start_time": "2024-01-05T10:36:37.730733",
     "status": "completed"
    },
    "tags": []
   },
   "source": [
    "The dataset contains 83 rows, where each corresponds to a different candy bar.  There are 13 columns:\n",
    "- `'competitorname'` contains the name of the candy bar. \n",
    "- the next **9** columns (from `'chocolate'` to `'pluribus'`) describe the candy.  For instance, rows with chocolate candies have `\"Yes\"` in the `'chocolate'` column (and candies without chocolate have `\"No\"` in the same column).\n",
    "- `'sugarpercent'` provides some indication of the amount of sugar, where higher values signify higher sugar content.\n",
    "- `'pricepercent'` shows the price per unit, relative to the other candies in the dataset.\n",
    "- `'winpercent'` is calculated from the survey results; higher values indicate that the candy was more popular with survey respondents.\n",
    "\n",
    "Use the first five rows of the data to answer the questions below."
   ]
  },
  {
   "cell_type": "code",
   "execution_count": 6,
   "id": "40fd2cba",
   "metadata": {
    "execution": {
     "iopub.execute_input": "2024-01-05T10:36:37.758451Z",
     "iopub.status.busy": "2024-01-05T10:36:37.758085Z",
     "iopub.status.idle": "2024-01-05T10:36:37.766461Z",
     "shell.execute_reply": "2024-01-05T10:36:37.765409Z"
    },
    "papermill": {
     "duration": 0.020465,
     "end_time": "2024-01-05T10:36:37.768551",
     "exception": false,
     "start_time": "2024-01-05T10:36:37.748086",
     "status": "completed"
    },
    "tags": []
   },
   "outputs": [
    {
     "data": {
      "application/javascript": [
       "parent.postMessage({\"jupyterEvent\": \"custom.exercise_interaction\", \"data\": {\"outcomeType\": 1, \"valueTowardsCompletion\": 0.3333333333333333, \"interactionType\": 1, \"questionType\": 1, \"questionId\": \"2_ReviewData\", \"learnToolsVersion\": \"0.3.4\", \"failureMessage\": \"\", \"exceptionClass\": \"\", \"trace\": \"\"}}, \"*\")"
      ],
      "text/plain": [
       "<IPython.core.display.Javascript object>"
      ]
     },
     "metadata": {},
     "output_type": "display_data"
    },
    {
     "data": {
      "text/markdown": [
       "<span style=\"color:#33cc33\">Correct</span>"
      ],
      "text/plain": [
       "Correct"
      ]
     },
     "metadata": {},
     "output_type": "display_data"
    }
   ],
   "source": [
    "# Fill in the line below: Which candy was more popular with survey respondents:\n",
    "# '3 Musketeers' or 'Almond Joy'?  (Please enclose your answer in single quotes.)\n",
    "more_popular = '3 Musketeers'\n",
    "\n",
    "# Fill in the line below: Which candy has higher sugar content: 'Air Heads'\n",
    "# or 'Baby Ruth'? (Please enclose your answer in single quotes.)\n",
    "more_sugar = 'Air Heads'\n",
    "\n",
    "# Check your answers\n",
    "step_2.check()"
   ]
  },
  {
   "cell_type": "code",
   "execution_count": 7,
   "id": "48e4ed07",
   "metadata": {
    "execution": {
     "iopub.execute_input": "2024-01-05T10:36:37.788402Z",
     "iopub.status.busy": "2024-01-05T10:36:37.788005Z",
     "iopub.status.idle": "2024-01-05T10:36:37.793480Z",
     "shell.execute_reply": "2024-01-05T10:36:37.792408Z"
    },
    "papermill": {
     "duration": 0.018141,
     "end_time": "2024-01-05T10:36:37.795827",
     "exception": false,
     "start_time": "2024-01-05T10:36:37.777686",
     "status": "completed"
    },
    "tags": []
   },
   "outputs": [],
   "source": [
    "# Lines below will give you a hint or solution code\n",
    "#step_2.hint()\n",
    "#step_2.solution()"
   ]
  },
  {
   "cell_type": "markdown",
   "id": "23d91e23",
   "metadata": {
    "papermill": {
     "duration": 0.00945,
     "end_time": "2024-01-05T10:36:37.814402",
     "exception": false,
     "start_time": "2024-01-05T10:36:37.804952",
     "status": "completed"
    },
    "tags": []
   },
   "source": [
    "## Step 3: The role of sugar\n",
    "\n",
    "Do people tend to prefer candies with higher sugar content?  \n",
    "\n",
    "#### Part A\n",
    "\n",
    "Create a scatter plot that shows the relationship between `'sugarpercent'` (on the horizontal x-axis) and `'winpercent'` (on the vertical y-axis).  _Don't add a regression line just yet -- you'll do that in the next step!_"
   ]
  },
  {
   "cell_type": "code",
   "execution_count": 8,
   "id": "4bfda2e0",
   "metadata": {
    "execution": {
     "iopub.execute_input": "2024-01-05T10:36:37.836649Z",
     "iopub.status.busy": "2024-01-05T10:36:37.835653Z",
     "iopub.status.idle": "2024-01-05T10:36:38.162277Z",
     "shell.execute_reply": "2024-01-05T10:36:38.161143Z"
    },
    "papermill": {
     "duration": 0.341197,
     "end_time": "2024-01-05T10:36:38.165363",
     "exception": false,
     "start_time": "2024-01-05T10:36:37.824166",
     "status": "completed"
    },
    "tags": []
   },
   "outputs": [
    {
     "data": {
      "application/javascript": [
       "parent.postMessage({\"jupyterEvent\": \"custom.exercise_interaction\", \"data\": {\"outcomeType\": 1, \"valueTowardsCompletion\": 0.3333333333333333, \"interactionType\": 1, \"questionType\": 2, \"questionId\": \"3.1_PlotBlueScatter\", \"learnToolsVersion\": \"0.3.4\", \"failureMessage\": \"\", \"exceptionClass\": \"\", \"trace\": \"\"}}, \"*\")"
      ],
      "text/plain": [
       "<IPython.core.display.Javascript object>"
      ]
     },
     "metadata": {},
     "output_type": "display_data"
    },
    {
     "data": {
      "text/markdown": [
       "<span style=\"color:#33cc33\">Correct</span>"
      ],
      "text/plain": [
       "Correct"
      ]
     },
     "metadata": {},
     "output_type": "display_data"
    },
    {
     "data": {
      "image/png": "[encoded data removed]",
      "text/plain": [
       "<Figure size 640x480 with 1 Axes>"
      ]
     },
     "metadata": {},
     "output_type": "display_data"
    }
   ],
   "source": [
    "# Scatter plot showing the relationship between 'sugarpercent' and 'winpercent'\n",
    "sns.scatterplot(x=candy_data['sugarpercent'], y=candy_data['winpercent']) # Your code here\n",
    "\n",
    "# Check your answer\n",
    "step_3.a.check()"
   ]
  },
  {
   "cell_type": "code",
   "execution_count": 9,
   "id": "960b7309",
   "metadata": {
    "execution": {
     "iopub.execute_input": "2024-01-05T10:36:38.187461Z",
     "iopub.status.busy": "2024-01-05T10:36:38.186965Z",
     "iopub.status.idle": "2024-01-05T10:36:38.191437Z",
     "shell.execute_reply": "2024-01-05T10:36:38.190321Z"
    },
    "papermill": {
     "duration": 0.018425,
     "end_time": "2024-01-05T10:36:38.193786",
     "exception": false,
     "start_time": "2024-01-05T10:36:38.175361",
     "status": "completed"
    },
    "tags": []
   },
   "outputs": [],
   "source": [
    "# Lines below will give you a hint or solution code\n",
    "#step_3.a.hint()\n",
    "#step_3.a.solution_plot()"
   ]
  },
  {
   "cell_type": "markdown",
   "id": "c652ed5c",
   "metadata": {
    "papermill": {
     "duration": 0.009443,
     "end_time": "2024-01-05T10:36:38.213220",
     "exception": false,
     "start_time": "2024-01-05T10:36:38.203777",
     "status": "completed"
    },
    "tags": []
   },
   "source": [
    "#### Part B\n",
    "\n",
    "Does the scatter plot show a **strong** correlation between the two variables?  If so, are candies with more sugar relatively more or less popular with the survey respondents?"
   ]
  },
  {
   "cell_type": "code",
   "execution_count": 10,
   "id": "cb52cc4f",
   "metadata": {
    "execution": {
     "iopub.execute_input": "2024-01-05T10:36:38.234521Z",
     "iopub.status.busy": "2024-01-05T10:36:38.234130Z",
     "iopub.status.idle": "2024-01-05T10:36:38.239119Z",
     "shell.execute_reply": "2024-01-05T10:36:38.238000Z"
    },
    "papermill": {
     "duration": 0.018561,
     "end_time": "2024-01-05T10:36:38.241552",
     "exception": false,
     "start_time": "2024-01-05T10:36:38.222991",
     "status": "completed"
    },
    "tags": []
   },
   "outputs": [],
   "source": [
    "#step_3.b.hint()"
   ]
  },
  {
   "cell_type": "code",
   "execution_count": 11,
   "id": "ba13fda2",
   "metadata": {
    "execution": {
     "iopub.execute_input": "2024-01-05T10:36:38.263523Z",
     "iopub.status.busy": "2024-01-05T10:36:38.263123Z",
     "iopub.status.idle": "2024-01-05T10:36:38.270578Z",
     "shell.execute_reply": "2024-01-05T10:36:38.269785Z"
    },
    "papermill": {
     "duration": 0.020989,
     "end_time": "2024-01-05T10:36:38.272775",
     "exception": false,
     "start_time": "2024-01-05T10:36:38.251786",
     "status": "completed"
    },
    "tags": []
   },
   "outputs": [
    {
     "data": {
      "application/javascript": [
       "parent.postMessage({\"jupyterEvent\": \"custom.exercise_interaction\", \"data\": {\"interactionType\": 3, \"questionType\": 4, \"questionId\": \"3.2_ThinkBlueScatter\", \"learnToolsVersion\": \"0.3.4\", \"valueTowardsCompletion\": 0.0, \"failureMessage\": \"\", \"exceptionClass\": \"\", \"trace\": \"\", \"outcomeType\": 4}}, \"*\")"
      ],
      "text/plain": [
       "<IPython.core.display.Javascript object>"
      ]
     },
     "metadata": {},
     "output_type": "display_data"
    },
    {
     "data": {
      "text/markdown": [
       "<span style=\"color:#33cc99\">Solution:</span> The scatter plot does not show a strong correlation between the two variables. Since there is no clear relationship between the two variables, this tells us that sugar content does not play a strong role in candy popularity."
      ],
      "text/plain": [
       "Solution: The scatter plot does not show a strong correlation between the two variables. Since there is no clear relationship between the two variables, this tells us that sugar content does not play a strong role in candy popularity."
      ]
     },
     "metadata": {},
     "output_type": "display_data"
    }
   ],
   "source": [
    "# Check your answer (Run this code cell to receive credit!)\n",
    "step_3.b.solution()"
   ]
  },
  {
   "cell_type": "markdown",
   "id": "7190ad2e",
   "metadata": {
    "papermill": {
     "duration": 0.010049,
     "end_time": "2024-01-05T10:36:38.292985",
     "exception": false,
     "start_time": "2024-01-05T10:36:38.282936",
     "status": "completed"
    },
    "tags": []
   },
   "source": [
    "## Step 4: Take a closer look\n",
    "\n",
    "#### Part A\n",
    "\n",
    "Create the same scatter plot you created in **Step 3**, but now with a regression line!"
   ]
  },
  {
   "cell_type": "code",
   "execution_count": 12,
   "id": "701d0157",
   "metadata": {
    "execution": {
     "iopub.execute_input": "2024-01-05T10:36:38.315899Z",
     "iopub.status.busy": "2024-01-05T10:36:38.315417Z",
     "iopub.status.idle": "2024-01-05T10:36:38.683390Z",
     "shell.execute_reply": "2024-01-05T10:36:38.682250Z"
    },
    "papermill": {
     "duration": 0.382892,
     "end_time": "2024-01-05T10:36:38.686036",
     "exception": false,
     "start_time": "2024-01-05T10:36:38.303144",
     "status": "completed"
    },
    "tags": []
   },
   "outputs": [
    {
     "data": {
      "application/javascript": [
       "parent.postMessage({\"jupyterEvent\": \"custom.exercise_interaction\", \"data\": {\"outcomeType\": 1, \"valueTowardsCompletion\": 0.3333333333333333, \"interactionType\": 1, \"questionType\": 2, \"questionId\": \"4.1_PlotBlueReg\", \"learnToolsVersion\": \"0.3.4\", \"failureMessage\": \"\", \"exceptionClass\": \"\", \"trace\": \"\"}}, \"*\")"
      ],
      "text/plain": [
       "<IPython.core.display.Javascript object>"
      ]
     },
     "metadata": {},
     "output_type": "display_data"
    },
    {
     "data": {
      "text/markdown": [
       "<span style=\"color:#33cc33\">Correct</span>"
      ],
      "text/plain": [
       "Correct"
      ]
     },
     "metadata": {},
     "output_type": "display_data"
    },
    {
     "data": {
      "image/png": "[encoded data removed]",
      "text/plain": [
       "<Figure size 640x480 with 1 Axes>"
      ]
     },
     "metadata": {},
     "output_type": "display_data"
    }
   ],
   "source": [
    "# Scatter plot w/ regression line showing the relationship between 'sugarpercent' and 'winpercent'\n",
    "sns.regplot(x=candy_data['sugarpercent'], y=candy_data['winpercent'])\n",
    " # Your code here\n",
    "\n",
    "# Check your answer\n",
    "step_4.a.check()"
   ]
  },
  {
   "cell_type": "code",
   "execution_count": 13,
   "id": "c282a093",
   "metadata": {
    "execution": {
     "iopub.execute_input": "2024-01-05T10:36:38.709678Z",
     "iopub.status.busy": "2024-01-05T10:36:38.709267Z",
     "iopub.status.idle": "2024-01-05T10:36:38.713688Z",
     "shell.execute_reply": "2024-01-05T10:36:38.712344Z"
    },
    "papermill": {
     "duration": 0.018771,
     "end_time": "2024-01-05T10:36:38.715957",
     "exception": false,
     "start_time": "2024-01-05T10:36:38.697186",
     "status": "completed"
    },
    "tags": []
   },
   "outputs": [],
   "source": [
    "# Lines below will give you a hint or solution code\n",
    "#step_4.a.hint()\n",
    "#step_4.a.solution_plot()"
   ]
  },
  {
   "cell_type": "markdown",
   "id": "223f2d12",
   "metadata": {
    "papermill": {
     "duration": 0.010298,
     "end_time": "2024-01-05T10:36:38.737193",
     "exception": false,
     "start_time": "2024-01-05T10:36:38.726895",
     "status": "completed"
    },
    "tags": []
   },
   "source": [
    "#### Part B\n",
    "\n",
    "According to the plot above, is there a **slight** correlation between `'winpercent'` and `'sugarpercent'`?  What does this tell you about the candy that people tend to prefer?"
   ]
  },
  {
   "cell_type": "code",
   "execution_count": 14,
   "id": "3078651e",
   "metadata": {
    "execution": {
     "iopub.execute_input": "2024-01-05T10:36:38.820953Z",
     "iopub.status.busy": "2024-01-05T10:36:38.819889Z",
     "iopub.status.idle": "2024-01-05T10:36:38.824397Z",
     "shell.execute_reply": "2024-01-05T10:36:38.823506Z"
    },
    "papermill": {
     "duration": 0.018725,
     "end_time": "2024-01-05T10:36:38.826559",
     "exception": false,
     "start_time": "2024-01-05T10:36:38.807834",
     "status": "completed"
    },
    "tags": []
   },
   "outputs": [],
   "source": [
    "#step_4.b.hint()"
   ]
  },
  {
   "cell_type": "code",
   "execution_count": 15,
   "id": "fe5ffdc7",
   "metadata": {
    "execution": {
     "iopub.execute_input": "2024-01-05T10:36:38.851004Z",
     "iopub.status.busy": "2024-01-05T10:36:38.850072Z",
     "iopub.status.idle": "2024-01-05T10:36:38.858293Z",
     "shell.execute_reply": "2024-01-05T10:36:38.857269Z"
    },
    "papermill": {
     "duration": 0.022558,
     "end_time": "2024-01-05T10:36:38.860499",
     "exception": false,
     "start_time": "2024-01-05T10:36:38.837941",
     "status": "completed"
    },
    "tags": []
   },
   "outputs": [
    {
     "data": {
      "application/javascript": [
       "parent.postMessage({\"jupyterEvent\": \"custom.exercise_interaction\", \"data\": {\"interactionType\": 3, \"questionType\": 4, \"questionId\": \"4.2_ThinkBlueReg\", \"learnToolsVersion\": \"0.3.4\", \"valueTowardsCompletion\": 0.0, \"failureMessage\": \"\", \"exceptionClass\": \"\", \"trace\": \"\", \"outcomeType\": 4}}, \"*\")"
      ],
      "text/plain": [
       "<IPython.core.display.Javascript object>"
      ]
     },
     "metadata": {},
     "output_type": "display_data"
    },
    {
     "data": {
      "text/markdown": [
       "<span style=\"color:#33cc99\">Solution:</span> Since the regression line has a slightly positive slope, this tells us that there is a slightly positive correlation between `'winpercent'` and `'sugarpercent'`. Thus, people have a slight preference for candies containing relatively more sugar."
      ],
      "text/plain": [
       "Solution: Since the regression line has a slightly positive slope, this tells us that there is a slightly positive correlation between `'winpercent'` and `'sugarpercent'`. Thus, people have a slight preference for candies containing relatively more sugar."
      ]
     },
     "metadata": {},
     "output_type": "display_data"
    }
   ],
   "source": [
    "# Check your answer (Run this code cell to receive credit!)\n",
    "step_4.b.solution()"
   ]
  },
  {
   "cell_type": "markdown",
   "id": "d88d51e1",
   "metadata": {
    "papermill": {
     "duration": 0.010793,
     "end_time": "2024-01-05T10:36:38.882487",
     "exception": false,
     "start_time": "2024-01-05T10:36:38.871694",
     "status": "completed"
    },
    "tags": []
   },
   "source": [
    "## Step 5: Chocolate!\n",
    "\n",
    "In the code cell below, create a scatter plot to show the relationship between `'pricepercent'` (on the horizontal x-axis) and `'winpercent'` (on the vertical y-axis). Use the `'chocolate'` column to color-code the points.  _Don't add any regression lines just yet -- you'll do that in the next step!_"
   ]
  },
  {
   "cell_type": "code",
   "execution_count": 16,
   "id": "d6ea45eb",
   "metadata": {
    "execution": {
     "iopub.execute_input": "2024-01-05T10:36:38.909153Z",
     "iopub.status.busy": "2024-01-05T10:36:38.908265Z",
     "iopub.status.idle": "2024-01-05T10:36:39.266327Z",
     "shell.execute_reply": "2024-01-05T10:36:39.265186Z"
    },
    "papermill": {
     "duration": 0.37369,
     "end_time": "2024-01-05T10:36:39.268641",
     "exception": false,
     "start_time": "2024-01-05T10:36:38.894951",
     "status": "completed"
    },
    "tags": []
   },
   "outputs": [
    {
     "data": {
      "application/javascript": [
       "parent.postMessage({\"jupyterEvent\": \"custom.exercise_interaction\", \"data\": {\"outcomeType\": 1, \"valueTowardsCompletion\": 0.3333333333333333, \"interactionType\": 1, \"questionType\": 2, \"questionId\": \"5_ColorScatter\", \"learnToolsVersion\": \"0.3.4\", \"failureMessage\": \"\", \"exceptionClass\": \"\", \"trace\": \"\"}}, \"*\")"
      ],
      "text/plain": [
       "<IPython.core.display.Javascript object>"
      ]
     },
     "metadata": {},
     "output_type": "display_data"
    },
    {
     "data": {
      "text/markdown": [
       "<span style=\"color:#33cc33\">Correct</span>"
      ],
      "text/plain": [
       "Correct"
      ]
     },
     "metadata": {},
     "output_type": "display_data"
    },
    {
     "data": {
      "image/png": "[encoded data removed]",
      "text/plain": [
       "<Figure size 640x480 with 1 Axes>"
      ]
     },
     "metadata": {},
     "output_type": "display_data"
    }
   ],
   "source": [
    "# Scatter plot showing the relationship between 'pricepercent', 'winpercent', and 'chocolate'\n",
    "sns.scatterplot(x=candy_data['pricepercent'], y=candy_data['winpercent'], hue=candy_data['chocolate'])\n",
    " # Your code here\n",
    "\n",
    "# Check your answer\n",
    "step_5.check()"
   ]
  },
  {
   "cell_type": "code",
   "execution_count": 17,
   "id": "87815b2f",
   "metadata": {
    "execution": {
     "iopub.execute_input": "2024-01-05T10:36:39.295104Z",
     "iopub.status.busy": "2024-01-05T10:36:39.294085Z",
     "iopub.status.idle": "2024-01-05T10:36:39.298708Z",
     "shell.execute_reply": "2024-01-05T10:36:39.297987Z"
    },
    "papermill": {
     "duration": 0.020254,
     "end_time": "2024-01-05T10:36:39.300750",
     "exception": false,
     "start_time": "2024-01-05T10:36:39.280496",
     "status": "completed"
    },
    "tags": []
   },
   "outputs": [],
   "source": [
    "# Lines below will give you a hint or solution code\n",
    "#step_5.hint()\n",
    "#step_5.solution_plot()"
   ]
  },
  {
   "cell_type": "markdown",
   "id": "33089870",
   "metadata": {
    "papermill": {
     "duration": 0.011714,
     "end_time": "2024-01-05T10:36:39.324536",
     "exception": false,
     "start_time": "2024-01-05T10:36:39.312822",
     "status": "completed"
    },
    "tags": []
   },
   "source": [
    "Can you see any interesting patterns in the scatter plot?  We'll investigate this plot further  by adding regression lines in the next step!\n",
    "\n",
    "## Step 6: Investigate chocolate\n",
    "\n",
    "#### Part A\n",
    "\n",
    "Create the same scatter plot you created in **Step 5**, but now with two regression lines, corresponding to (1) chocolate candies and (2) candies without chocolate."
   ]
  },
  {
   "cell_type": "code",
   "execution_count": 18,
   "id": "fa50ab8c",
   "metadata": {
    "execution": {
     "iopub.execute_input": "2024-01-05T10:36:39.350855Z",
     "iopub.status.busy": "2024-01-05T10:36:39.349861Z",
     "iopub.status.idle": "2024-01-05T10:36:40.058635Z",
     "shell.execute_reply": "2024-01-05T10:36:40.057548Z"
    },
    "papermill": {
     "duration": 0.724575,
     "end_time": "2024-01-05T10:36:40.061105",
     "exception": false,
     "start_time": "2024-01-05T10:36:39.336530",
     "status": "completed"
    },
    "tags": []
   },
   "outputs": [
    {
     "data": {
      "application/javascript": [
       "parent.postMessage({\"jupyterEvent\": \"custom.exercise_interaction\", \"data\": {\"outcomeType\": 1, \"valueTowardsCompletion\": 0.3333333333333333, \"interactionType\": 1, \"questionType\": 2, \"questionId\": \"6.1_PlotColorReg\", \"learnToolsVersion\": \"0.3.4\", \"failureMessage\": \"\", \"exceptionClass\": \"\", \"trace\": \"\"}}, \"*\")"
      ],
      "text/plain": [
       "<IPython.core.display.Javascript object>"
      ]
     },
     "metadata": {},
     "output_type": "display_data"
    },
    {
     "data": {
      "text/markdown": [
       "<span style=\"color:#33cc33\">Correct</span>"
      ],
      "text/plain": [
       "Correct"
      ]
     },
     "metadata": {},
     "output_type": "display_data"
    },
    {
     "data": {
      "image/png": "[encoded data removed]",
      "text/plain": [
       "<Figure size 578.611x500 with 1 Axes>"
      ]
     },
     "metadata": {},
     "output_type": "display_data"
    }
   ],
   "source": [
    "# Color-coded scatter plot w/ regression lines\n",
    "sns.lmplot(x=\"pricepercent\", y=\"winpercent\", hue=\"chocolate\", data=candy_data)\n",
    " # Your code here\n",
    "\n",
    "# Check your answer\n",
    "step_6.a.check()"
   ]
  },
  {
   "cell_type": "code",
   "execution_count": 19,
   "id": "551d00c1",
   "metadata": {
    "execution": {
     "iopub.execute_input": "2024-01-05T10:36:40.090072Z",
     "iopub.status.busy": "2024-01-05T10:36:40.089386Z",
     "iopub.status.idle": "2024-01-05T10:36:40.094328Z",
     "shell.execute_reply": "2024-01-05T10:36:40.093261Z"
    },
    "papermill": {
     "duration": 0.022486,
     "end_time": "2024-01-05T10:36:40.096948",
     "exception": false,
     "start_time": "2024-01-05T10:36:40.074462",
     "status": "completed"
    },
    "tags": []
   },
   "outputs": [],
   "source": [
    "# Lines below will give you a hint or solution code\n",
    "#step_6.a.hint()\n",
    "#step_6.a.solution_plot()"
   ]
  },
  {
   "cell_type": "markdown",
   "id": "006b15df",
   "metadata": {
    "papermill": {
     "duration": 0.013231,
     "end_time": "2024-01-05T10:36:40.123183",
     "exception": false,
     "start_time": "2024-01-05T10:36:40.109952",
     "status": "completed"
    },
    "tags": []
   },
   "source": [
    "#### Part B\n",
    "\n",
    "Using the regression lines, what conclusions can you draw about the effects of chocolate and price on candy popularity?"
   ]
  },
  {
   "cell_type": "code",
   "execution_count": 20,
   "id": "e196a5fa",
   "metadata": {
    "execution": {
     "iopub.execute_input": "2024-01-05T10:36:40.152057Z",
     "iopub.status.busy": "2024-01-05T10:36:40.151250Z",
     "iopub.status.idle": "2024-01-05T10:36:40.155520Z",
     "shell.execute_reply": "2024-01-05T10:36:40.154682Z"
    },
    "papermill": {
     "duration": 0.021086,
     "end_time": "2024-01-05T10:36:40.157674",
     "exception": false,
     "start_time": "2024-01-05T10:36:40.136588",
     "status": "completed"
    },
    "tags": []
   },
   "outputs": [],
   "source": [
    "#step_6.b.hint()"
   ]
  },
  {
   "cell_type": "code",
   "execution_count": 21,
   "id": "8cf69c4b",
   "metadata": {
    "execution": {
     "iopub.execute_input": "2024-01-05T10:36:40.186669Z",
     "iopub.status.busy": "2024-01-05T10:36:40.185907Z",
     "iopub.status.idle": "2024-01-05T10:36:40.193848Z",
     "shell.execute_reply": "2024-01-05T10:36:40.192884Z"
    },
    "papermill": {
     "duration": 0.024948,
     "end_time": "2024-01-05T10:36:40.195913",
     "exception": false,
     "start_time": "2024-01-05T10:36:40.170965",
     "status": "completed"
    },
    "tags": []
   },
   "outputs": [
    {
     "data": {
      "application/javascript": [
       "parent.postMessage({\"jupyterEvent\": \"custom.exercise_interaction\", \"data\": {\"interactionType\": 3, \"questionType\": 4, \"questionId\": \"6.2_ThinkColorReg\", \"learnToolsVersion\": \"0.3.4\", \"valueTowardsCompletion\": 0.0, \"failureMessage\": \"\", \"exceptionClass\": \"\", \"trace\": \"\", \"outcomeType\": 4}}, \"*\")"
      ],
      "text/plain": [
       "<IPython.core.display.Javascript object>"
      ]
     },
     "metadata": {},
     "output_type": "display_data"
    },
    {
     "data": {
      "text/markdown": [
       "<span style=\"color:#33cc99\">Solution:</span> We'll begin with the regression line for chocolate candies. Since this line has a slightly positive slope, we can say that more expensive chocolate candies tend to be more popular (than relatively cheaper chocolate candies).  Likewise, since the regression line for candies without chocolate has a negative slope, we can say that if candies don't contain chocolate, they tend to be more popular when they are cheaper.  One important note, however, is that the dataset is quite small -- so we shouldn't invest too much trust in these patterns!  To inspire more confidence in the results, we should add more candies to the dataset."
      ],
      "text/plain": [
       "Solution: We'll begin with the regression line for chocolate candies. Since this line has a slightly positive slope, we can say that more expensive chocolate candies tend to be more popular (than relatively cheaper chocolate candies).  Likewise, since the regression line for candies without chocolate has a negative slope, we can say that if candies don't contain chocolate, they tend to be more popular when they are cheaper.  One important note, however, is that the dataset is quite small -- so we shouldn't invest too much trust in these patterns!  To inspire more confidence in the results, we should add more candies to the dataset."
      ]
     },
     "metadata": {},
     "output_type": "display_data"
    }
   ],
   "source": [
    "# Check your answer (Run this code cell to receive credit!)\n",
    "step_6.b.solution()"
   ]
  },
  {
   "cell_type": "markdown",
   "id": "d2f3bd94",
   "metadata": {
    "papermill": {
     "duration": 0.013357,
     "end_time": "2024-01-05T10:36:40.222493",
     "exception": false,
     "start_time": "2024-01-05T10:36:40.209136",
     "status": "completed"
    },
    "tags": []
   },
   "source": [
    "## Step 7: Everybody loves chocolate.\n",
    "\n",
    "#### Part A\n",
    "\n",
    "Create a categorical scatter plot to highlight the relationship between `'chocolate'` and `'winpercent'`.  Put `'chocolate'` on the (horizontal) x-axis, and `'winpercent'` on the (vertical) y-axis."
   ]
  },
  {
   "cell_type": "code",
   "execution_count": 22,
   "id": "800ef825",
   "metadata": {
    "execution": {
     "iopub.execute_input": "2024-01-05T10:36:40.252071Z",
     "iopub.status.busy": "2024-01-05T10:36:40.251411Z",
     "iopub.status.idle": "2024-01-05T10:36:40.684551Z",
     "shell.execute_reply": "2024-01-05T10:36:40.683140Z"
    },
    "papermill": {
     "duration": 0.453655,
     "end_time": "2024-01-05T10:36:40.689677",
     "exception": false,
     "start_time": "2024-01-05T10:36:40.236022",
     "status": "completed"
    },
    "tags": []
   },
   "outputs": [
    {
     "data": {
      "application/javascript": [
       "parent.postMessage({\"jupyterEvent\": \"custom.exercise_interaction\", \"data\": {\"outcomeType\": 1, \"valueTowardsCompletion\": 0.3333333333333333, \"interactionType\": 1, \"questionType\": 2, \"questionId\": \"7.1_PlotSwarm\", \"learnToolsVersion\": \"0.3.4\", \"failureMessage\": \"\", \"exceptionClass\": \"\", \"trace\": \"\"}}, \"*\")"
      ],
      "text/plain": [
       "<IPython.core.display.Javascript object>"
      ]
     },
     "metadata": {},
     "output_type": "display_data"
    },
    {
     "data": {
      "text/markdown": [
       "<span style=\"color:#33cc33\">Correct</span>"
      ],
      "text/plain": [
       "Correct"
      ]
     },
     "metadata": {},
     "output_type": "display_data"
    },
    {
     "data": {
      "image/png": "[encoded data removed]",
      "text/plain": [
       "<Figure size 640x480 with 1 Axes>"
      ]
     },
     "metadata": {},
     "output_type": "display_data"
    }
   ],
   "source": [
    "# Scatter plot showing the relationship between 'chocolate' and 'winpercent'\n",
    "sns.swarmplot(x=candy_data['chocolate'], y=candy_data['winpercent']) # Your code here\n",
    "\n",
    "# Check your answer\n",
    "step_7.a.check()"
   ]
  },
  {
   "cell_type": "code",
   "execution_count": 23,
   "id": "66be7f06",
   "metadata": {
    "execution": {
     "iopub.execute_input": "2024-01-05T10:36:40.740018Z",
     "iopub.status.busy": "2024-01-05T10:36:40.739620Z",
     "iopub.status.idle": "2024-01-05T10:36:40.743769Z",
     "shell.execute_reply": "2024-01-05T10:36:40.742853Z"
    },
    "papermill": {
     "duration": 0.030546,
     "end_time": "2024-01-05T10:36:40.745758",
     "exception": false,
     "start_time": "2024-01-05T10:36:40.715212",
     "status": "completed"
    },
    "tags": []
   },
   "outputs": [],
   "source": [
    "# Lines below will give you a hint or solution code\n",
    "#step_7.a.hint()\n",
    "#step_7.a.solution_plot()"
   ]
  },
  {
   "cell_type": "markdown",
   "id": "f59e2152",
   "metadata": {
    "papermill": {
     "duration": 0.013603,
     "end_time": "2024-01-05T10:36:40.773608",
     "exception": false,
     "start_time": "2024-01-05T10:36:40.760005",
     "status": "completed"
    },
    "tags": []
   },
   "source": [
    "#### Part B\n",
    "\n",
    "You decide to dedicate a section of your report to the fact that chocolate candies tend to be more popular than candies without chocolate.  Which plot is more appropriate to tell this story: the plot from **Step 6**, or the plot from **Step 7**?"
   ]
  },
  {
   "cell_type": "code",
   "execution_count": 24,
   "id": "c64de4c9",
   "metadata": {
    "execution": {
     "iopub.execute_input": "2024-01-05T10:36:40.803688Z",
     "iopub.status.busy": "2024-01-05T10:36:40.802963Z",
     "iopub.status.idle": "2024-01-05T10:36:40.807588Z",
     "shell.execute_reply": "2024-01-05T10:36:40.806786Z"
    },
    "papermill": {
     "duration": 0.022247,
     "end_time": "2024-01-05T10:36:40.809732",
     "exception": false,
     "start_time": "2024-01-05T10:36:40.787485",
     "status": "completed"
    },
    "tags": []
   },
   "outputs": [],
   "source": [
    "#step_7.b.hint()"
   ]
  },
  {
   "cell_type": "code",
   "execution_count": 25,
   "id": "298d95c4",
   "metadata": {
    "execution": {
     "iopub.execute_input": "2024-01-05T10:36:40.840518Z",
     "iopub.status.busy": "2024-01-05T10:36:40.839849Z",
     "iopub.status.idle": "2024-01-05T10:36:40.846890Z",
     "shell.execute_reply": "2024-01-05T10:36:40.845950Z"
    },
    "papermill": {
     "duration": 0.024707,
     "end_time": "2024-01-05T10:36:40.848822",
     "exception": false,
     "start_time": "2024-01-05T10:36:40.824115",
     "status": "completed"
    },
    "tags": []
   },
   "outputs": [
    {
     "data": {
      "application/javascript": [
       "parent.postMessage({\"jupyterEvent\": \"custom.exercise_interaction\", \"data\": {\"interactionType\": 3, \"questionType\": 4, \"questionId\": \"7.2_ThinkSwarm\", \"learnToolsVersion\": \"0.3.4\", \"valueTowardsCompletion\": 0.0, \"failureMessage\": \"\", \"exceptionClass\": \"\", \"trace\": \"\", \"outcomeType\": 4}}, \"*\")"
      ],
      "text/plain": [
       "<IPython.core.display.Javascript object>"
      ]
     },
     "metadata": {},
     "output_type": "display_data"
    },
    {
     "data": {
      "text/markdown": [
       "<span style=\"color:#33cc99\">Solution:</span> In this case, the categorical scatter plot from **Step 7** is the more appropriate plot. While both plots tell the desired story, the plot from **Step 6** conveys far more information that could distract from the main point."
      ],
      "text/plain": [
       "Solution: In this case, the categorical scatter plot from **Step 7** is the more appropriate plot. While both plots tell the desired story, the plot from **Step 6** conveys far more information that could distract from the main point."
      ]
     },
     "metadata": {},
     "output_type": "display_data"
    }
   ],
   "source": [
    "# Check your answer (Run this code cell to receive credit!)\n",
    "step_7.b.solution()"
   ]
  },
  {
   "cell_type": "markdown",
   "id": "18c32ab5",
   "metadata": {
    "papermill": {
     "duration": 0.018927,
     "end_time": "2024-01-05T10:36:40.883520",
     "exception": false,
     "start_time": "2024-01-05T10:36:40.864593",
     "status": "completed"
    },
    "tags": []
   },
   "source": [
    "## Keep going\n",
    "\n",
    "Explore **[histograms and density plots](https://www.kaggle.com/alexisbcook/distributions)**."
   ]
  },
  {
   "cell_type": "markdown",
   "id": "9647b98c",
   "metadata": {
    "papermill": {
     "duration": 0.016432,
     "end_time": "2024-01-05T10:36:40.917970",
     "exception": false,
     "start_time": "2024-01-05T10:36:40.901538",
     "status": "completed"
    },
    "tags": []
   },
   "source": [
    "---\n",
    "\n",
    "\n",
    "\n",
    "\n",
    "*Have questions or comments? Visit the [course discussion forum](https://www.kaggle.com/learn/data-visualization/discussion) to chat with other learners.*"
   ]
  }
 ],
 "metadata": {
  "kaggle": {
   "accelerator": "none",
   "dataSources": [
    {
     "datasetId": 116573,
     "sourceId": 3551030,
     "sourceType": "datasetVersion"
    }
   ],
   "isGpuEnabled": false,
   "isInternetEnabled": false,
   "language": "python",
   "sourceType": "notebook"
  },
  "kernelspec": {
   "display_name": "Python 3",
   "language": "python",
   "name": "python3"
  },
  "language_info": {
   "codemirror_mode": {
    "name": "ipython",
    "version": 3
   },
   "file_extension": ".py",
   "mimetype": "text/x-python",
   "name": "python",
   "nbconvert_exporter": "python",
   "pygments_lexer": "ipython3",
   "version": "3.10.12"
  },
  "papermill": {
   "default_parameters": {},
   "duration": 9.376128,
   "end_time": "2024-01-05T10:36:41.653703",
   "environment_variables": {},
   "exception": null,
   "input_path": "__notebook__.ipynb",
   "output_path": "__notebook__.ipynb",
   "parameters": {},
   "start_time": "2024-01-05T10:36:32.277575",
   "version": "2.4.0"
  }
 },
 "nbformat": 4,
 "nbformat_minor": 5
}
